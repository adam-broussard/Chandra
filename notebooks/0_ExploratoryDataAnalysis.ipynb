{
 "cells": [
  {
   "cell_type": "markdown",
   "metadata": {},
   "source": [
    "<h1>The dataset</h1>\n",
    "The dataset is organized into 3 folders (train, test, val) and contains subfolders for each image category (Pneumonia/Normal). There are 5,863 X-Ray images (JPEG) and 2 categories (Pneumonia/Normal)."
   ]
  },
  {
   "cell_type": "code",
   "execution_count": 3,
   "metadata": {},
   "outputs": [],
   "source": [
    "## For data handling\n",
    "import pandas as pd\n",
    "import numpy as np\n",
    "import imageio as iio\n",
    " \n",
    "## For plotting\n",
    "import matplotlib.pyplot as plt\n",
    "import seaborn as sns\n",
    "\n",
    "\n",
    "## Miscellaneous tools\n",
    "import os\n",
    "\n",
    "## This sets the plot style\n",
    "## to have a grid on a white background\n",
    "sns.set_style(\"whitegrid\")"
   ]
  },
  {
   "cell_type": "code",
   "execution_count": 7,
   "metadata": {},
   "outputs": [],
   "source": [
    "## Paths of different datasets\n",
    "\n",
    "trainpath='data/chest-xray-pneumonia/chest_xray/train/'\n",
    "testpath='data/chest-xray-pneumonia/chest_xray/test/'\n",
    "valpath='data/chest-xray-pneumonia/chest_xray/val/'"
   ]
  },
  {
   "cell_type": "markdown",
   "metadata": {},
   "source": [
    "## Some details about the data"
   ]
  },
  {
   "cell_type": "code",
   "execution_count": 10,
   "metadata": {},
   "outputs": [
    {
     "name": "stdout",
     "output_type": "stream",
     "text": [
      "Train set:\n",
      "------------------------------------------------------------\n",
      "PNEUMONIA=3875\n",
      "NORMAL=1341\n",
      "\n",
      "Test set:\n",
      "------------------------------------------------------------\n",
      "PNEUMONIA=390\n",
      "NORMAL=234\n",
      "\n",
      "Validation set\n",
      "------------------------------------------------------------\n",
      "PNEUMONIA=8\n",
      "NORMAL=8\n"
     ]
    }
   ],
   "source": [
    "print(\"Train set:\")\n",
    "print(\"-\"*60)\n",
    "print(f\"PNEUMONIA={len(os.listdir(os.path.join(trainpath, 'PNEUMONIA')))}\")\n",
    "print(f\"NORMAL={len(os.listdir(os.path.join(trainpath, 'NORMAL')))}\")\n",
    "\n",
    "print(\"\\nTest set:\")\n",
    "print('-'*60)\n",
    "print(f\"PNEUMONIA={len(os.listdir(os.path.join(testpath, 'PNEUMONIA')))}\")\n",
    "print(f\"NORMAL={len(os.listdir(os.path.join(testpath, 'NORMAL')))}\")\n",
    "\n",
    "print(\"\\nValidation set\")\n",
    "print('-'*60)\n",
    "print(f\"PNEUMONIA={len(os.listdir(os.path.join(valpath, 'PNEUMONIA')))}\")\n",
    "print(f\"NORMAL={len(os.listdir(os.path.join(valpath, 'NORMAL')))}\")"
   ]
  },
  {
   "cell_type": "code",
   "execution_count": null,
   "metadata": {},
   "outputs": [],
   "source": []
  }
 ],
 "metadata": {
  "hide_input": false,
  "interpreter": {
   "hash": "1cfd1f37832ca50460afb8cee0e387f253b30e3ddabfcf63ef10b19ca2ef7e6c"
  },
  "kernelspec": {
   "display_name": "Python 3",
   "language": "python",
   "name": "python3"
  },
  "language_info": {
   "codemirror_mode": {
    "name": "ipython",
    "version": 3
   },
   "file_extension": ".py",
   "mimetype": "text/x-python",
   "name": "python",
   "nbconvert_exporter": "python",
   "pygments_lexer": "ipython3",
   "version": "3.9.12"
  }
 },
 "nbformat": 4,
 "nbformat_minor": 2
}
