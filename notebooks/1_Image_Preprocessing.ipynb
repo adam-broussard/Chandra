{
 "cells": [
  {
   "cell_type": "markdown",
   "id": "07a5ef20",
   "metadata": {},
   "source": [
    "# Data Preprocessing"
   ]
  },
  {
   "cell_type": "markdown",
   "id": "da585527",
   "metadata": {},
   "source": [
    "## Merging All of the Data\n",
    "\n",
    "Because we want to be able to have control over how much of the data gets split into train, test, and validation sets, we should get a list of all of the files and keep track of which are images classified as PNEUMONIA and which are classified as NORMAL."
   ]
  },
  {
   "cell_type": "code",
   "execution_count": 1,
   "id": "55ca7bcb",
   "metadata": {},
   "outputs": [],
   "source": [
    "from glob import glob\n",
    "import pandas as pd\n",
    "import os\n",
    "from skimage.io import imread, imsave\n",
    "from skimage import img_as_ubyte\n",
    "from matplotlib import pyplot as plt\n",
    "from PIL import UnidentifiedImageError\n",
    "from tqdm import tqdm\n",
    "import numpy as np\n",
    "from galaxyteam.dataset import resize_image"
   ]
  },
  {
   "cell_type": "code",
   "execution_count": 2,
   "id": "e7b39c8a",
   "metadata": {},
   "outputs": [],
   "source": [
    "data_directory = os.path.abspath('./data/') + '/'\n",
    "xray_directory = data_directory + 'chest_xray/chest_xray/'\n",
    "all_files = glob(xray_directory + '*/*/*')\n",
    "\n",
    "preprocessed_dir = data_directory + 'preprocessed/'\n",
    "os.makedirs(preprocessed_dir, exist_ok=True)"
   ]
  },
  {
   "cell_type": "code",
   "execution_count": 3,
   "id": "2fda7c86",
   "metadata": {},
   "outputs": [],
   "source": [
    "file_data = pd.DataFrame(all_files, columns=['orig_file_path'])\n",
    "file_data['is_pneumonia'] = file_data['orig_file_path'].str.contains('/PNEUMONIA/')"
   ]
  },
  {
   "cell_type": "code",
   "execution_count": 4,
   "id": "8718d1d0",
   "metadata": {},
   "outputs": [
    {
     "data": {
      "text/html": [
       "<div>\n",
       "<style scoped>\n",
       "    .dataframe tbody tr th:only-of-type {\n",
       "        vertical-align: middle;\n",
       "    }\n",
       "\n",
       "    .dataframe tbody tr th {\n",
       "        vertical-align: top;\n",
       "    }\n",
       "\n",
       "    .dataframe thead th {\n",
       "        text-align: right;\n",
       "    }\n",
       "</style>\n",
       "<table border=\"1\" class=\"dataframe\">\n",
       "  <thead>\n",
       "    <tr style=\"text-align: right;\">\n",
       "      <th></th>\n",
       "      <th>orig_file_path</th>\n",
       "      <th>is_pneumonia</th>\n",
       "    </tr>\n",
       "  </thead>\n",
       "  <tbody>\n",
       "    <tr>\n",
       "      <th>0</th>\n",
       "      <td>/home/adam/Documents/GalaxyTeam/notebooks/data...</td>\n",
       "      <td>True</td>\n",
       "    </tr>\n",
       "    <tr>\n",
       "      <th>1</th>\n",
       "      <td>/home/adam/Documents/GalaxyTeam/notebooks/data...</td>\n",
       "      <td>True</td>\n",
       "    </tr>\n",
       "    <tr>\n",
       "      <th>2</th>\n",
       "      <td>/home/adam/Documents/GalaxyTeam/notebooks/data...</td>\n",
       "      <td>True</td>\n",
       "    </tr>\n",
       "    <tr>\n",
       "      <th>3</th>\n",
       "      <td>/home/adam/Documents/GalaxyTeam/notebooks/data...</td>\n",
       "      <td>True</td>\n",
       "    </tr>\n",
       "    <tr>\n",
       "      <th>4</th>\n",
       "      <td>/home/adam/Documents/GalaxyTeam/notebooks/data...</td>\n",
       "      <td>True</td>\n",
       "    </tr>\n",
       "  </tbody>\n",
       "</table>\n",
       "</div>"
      ],
      "text/plain": [
       "                                      orig_file_path  is_pneumonia\n",
       "0  /home/adam/Documents/GalaxyTeam/notebooks/data...          True\n",
       "1  /home/adam/Documents/GalaxyTeam/notebooks/data...          True\n",
       "2  /home/adam/Documents/GalaxyTeam/notebooks/data...          True\n",
       "3  /home/adam/Documents/GalaxyTeam/notebooks/data...          True\n",
       "4  /home/adam/Documents/GalaxyTeam/notebooks/data...          True"
      ]
     },
     "execution_count": 4,
     "metadata": {},
     "output_type": "execute_result"
    }
   ],
   "source": [
    "file_data.head()"
   ]
  },
  {
   "cell_type": "markdown",
   "id": "90c79888",
   "metadata": {},
   "source": [
    "## Custom Train/Test Splitting\n",
    "\n",
    "We can now split the data into train and test sets, and we will reserve splitting off the validation split for when a particular model is run.  This way, we still have the flexibility to generate a standard validation set or perform cross-validation as needed."
   ]
  },
  {
   "cell_type": "code",
   "execution_count": 5,
   "id": "9aa63fac",
   "metadata": {},
   "outputs": [
    {
     "name": "stdout",
     "output_type": "stream",
     "text": [
      "There are 4685 elements in the training set.\n",
      "There are 1171 elements in the test set.\n"
     ]
    }
   ],
   "source": [
    "# Note that this also shuffles the data just in case we forget later...\n",
    "train_file_data = file_data.sample(frac=0.8, random_state=1337)\n",
    "test_file_data = file_data.drop(train_file_data.index)\n",
    "\n",
    "print(f'There are {len(train_file_data)} elements in the training set.')\n",
    "print(f'There are {len(test_file_data)} elements in the test set.')"
   ]
  },
  {
   "cell_type": "markdown",
   "id": "9a50fae7",
   "metadata": {},
   "source": [
    "## Preprocessing the Images\n",
    "\n",
    "Most models we apply to these images are going to require that the images all have the same shape.  Let's start by seeing what typical image dimensions look like."
   ]
  },
  {
   "cell_type": "code",
   "execution_count": 6,
   "id": "dd47b8c8",
   "metadata": {},
   "outputs": [
    {
     "name": "stderr",
     "output_type": "stream",
     "text": [
      "100%|████████████████████████████████████████████████████| 5856/5856 [00:51<00:00, 112.97it/s]\n"
     ]
    }
   ],
   "source": [
    "image_dims = []\n",
    "\n",
    "for image_fname in tqdm(file_data['orig_file_path']):\n",
    "    try:\n",
    "        image_dims.append(imread(image_fname).shape)\n",
    "    except UnidentifiedImageError:\n",
    "        print(image_fname + ' unreadable.')"
   ]
  },
  {
   "cell_type": "markdown",
   "id": "6e3c31b9",
   "metadata": {},
   "source": [
    "### Image Dimensions\n",
    "\n",
    "As we can see below, some of the images are two-dimensional (grayscale) while others are three-dimensional (color).  We'll want to add a color dimension to the grayscale images so that they match the rest"
   ]
  },
  {
   "cell_type": "code",
   "execution_count": 7,
   "id": "4ba9df5f",
   "metadata": {},
   "outputs": [
    {
     "name": "stdout",
     "output_type": "stream",
     "text": [
      "There are 283 images in color and 5573 images in B+W.\n"
     ]
    }
   ],
   "source": [
    "count = 0\n",
    "all_image_dims  = []\n",
    "for x, dims in enumerate(image_dims):\n",
    "    if len(dims) != 2:\n",
    "        count += 1\n",
    "        all_image_dims.append(dims[:2])\n",
    "    else:\n",
    "        all_image_dims.append(dims)\n",
    "\n",
    "all_image_dims = np.array(all_image_dims)\n",
    "        \n",
    "print(f'There are {count} images in color and {len(image_dims)-count} images in B+W.')"
   ]
  },
  {
   "cell_type": "code",
   "execution_count": 8,
   "id": "333d7c45",
   "metadata": {},
   "outputs": [
    {
     "data": {
      "text/plain": [
       "<matplotlib.legend.Legend at 0x7fe2d352c3c8>"
      ]
     },
     "execution_count": 8,
     "metadata": {},
     "output_type": "execute_result"
    },
    {
     "data": {
      "image/png": "[encoded data removed]",
      "text/plain": [
       "<Figure size 1152x576 with 2 Axes>"
      ]
     },
     "metadata": {
      "needs_background": "light"
     },
     "output_type": "display_data"
    }
   ],
   "source": [
    "fig = plt.figure(figsize=(16, 8))\n",
    "sp1 = fig.add_subplot(121)\n",
    "sp2 = fig.add_subplot(122)\n",
    "\n",
    "sp1.hist(all_image_dims.T[0], bins=30, histtype='step', label='X Dim')\n",
    "sp1.hist(all_image_dims.T[1], bins=30, histtype='step', label='Y Dim')\n",
    "\n",
    "sp2.scatter(all_image_dims.T[0], all_image_dims.T[1])\n",
    "\n",
    "linefunc = np.poly1d(np.polyfit(all_image_dims.T[0], all_image_dims.T[1], 1))\n",
    "xgrid = np.linspace(0, 3000, 100)\n",
    "sp2.plot(xgrid, linefunc(xgrid), c='C1', label = f'$y={linefunc.c[0]:.2}x + {linefunc.c[1]:.2}$')\n",
    "\n",
    "sp1.set_xlabel('Length (Pix)')\n",
    "sp1.legend()\n",
    "\n",
    "sp2.set_xlabel('X Length (Pix)')\n",
    "sp2.set_ylabel('Y Length (Pix)')\n",
    "sp2.set_xlim(0, 3000)\n",
    "sp2.set_ylim(0,3000)\n",
    "sp2.legend()\n"
   ]
  },
  {
   "cell_type": "markdown",
   "id": "84cbd869",
   "metadata": {},
   "source": [
    "Here, it appears that the images have an aspect ratio that is slightly less than 1.  We will resize the images to be **224x224** because this is required by the RESNET architecture."
   ]
  },
  {
   "cell_type": "markdown",
   "id": "70404090",
   "metadata": {},
   "source": [
    "### Resizing the Images"
   ]
  },
  {
   "cell_type": "code",
   "execution_count": 9,
   "id": "3cfe7262",
   "metadata": {
    "scrolled": true
   },
   "outputs": [
    {
     "name": "stderr",
     "output_type": "stream",
     "text": [
      "100%|█████████████████████████████████████████████████████| 4685/4685 [02:37<00:00, 29.73it/s]\n",
      "100%|█████████████████████████████████████████████████████| 1171/1171 [00:36<00:00, 31.92it/s]\n"
     ]
    }
   ],
   "source": [
    "train_fp_list = []\n",
    "test_fp_list = []\n",
    "\n",
    "# Make the save folder if it doesn't already exist.\n",
    "os.makedirs(preprocessed_dir + '/resized/train/', exist_ok=True)\n",
    "os.makedirs(preprocessed_dir + '/resized/test/', exist_ok=True)\n",
    "\n",
    "## The save_file lines in here simply create test and train folders within\n",
    "## preprocessed_dir with the NORMAL and PNEUMONIA folders like the original data\n",
    "for train_file in tqdm(train_file_data.orig_file_path):\n",
    "    image = imread(train_file)\n",
    "    save_file = preprocessed_dir + '/resized/train/' + '/'.join(train_file.split('/')[-2:])\n",
    "    train_fp_list.append(save_file)\n",
    "    resized = resize_image(image, target_shape=(224, 224, 3))\n",
    "    imsave(save_file, img_as_ubyte(resized))\n",
    "\n",
    "for test_file in tqdm(test_file_data.orig_file_path):\n",
    "    image = imread(test_file)\n",
    "    save_file = preprocessed_dir + '/resized/test/' + '/'.join(test_file.split('/')[-2:])\n",
    "    test_fp_list.append(save_file)\n",
    "    resized = resize_image(image, target_shape=(224, 224, 3))\n",
    "    imsave(save_file, img_as_ubyte(resized))"
   ]
  },
  {
   "cell_type": "code",
   "execution_count": 10,
   "id": "f35ea364",
   "metadata": {},
   "outputs": [],
   "source": [
    "train_file_data['resized_file_path'] = train_fp_list\n",
    "test_file_data['resized_file_path'] = test_fp_list"
   ]
  },
  {
   "cell_type": "markdown",
   "id": "c12a5c15",
   "metadata": {},
   "source": [
    "## Saving the Metadata\n",
    "\n",
    "We can now save these records of which files belong in each set in case we need to reference them in the future..."
   ]
  },
  {
   "cell_type": "code",
   "execution_count": 11,
   "id": "631f6fd4",
   "metadata": {},
   "outputs": [],
   "source": [
    "# We can go ahead and leave out the index because the file order in glob doesn't really matter\n",
    "train_file_data.to_csv(preprocessed_dir + 'train_metadata.csv', index=False)\n",
    "test_file_data.to_csv(preprocessed_dir + 'test_metadata.csv', index=False)"
   ]
  }
 ],
 "metadata": {
  "kernelspec": {
   "display_name": "Python 3 (ipykernel)",
   "language": "python",
   "name": "python3"
  },
  "language_info": {
   "codemirror_mode": {
    "name": "ipython",
    "version": 3
   },
   "file_extension": ".py",
   "mimetype": "text/x-python",
   "name": "python",
   "nbconvert_exporter": "python",
   "pygments_lexer": "ipython3",
   "version": "3.7.1"
  }
 },
 "nbformat": 4,
 "nbformat_minor": 5
}
