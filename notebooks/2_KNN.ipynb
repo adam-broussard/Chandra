{
 "cells": [
  {
   "cell_type": "code",
   "execution_count": 2,
   "metadata": {},
   "outputs": [],
   "source": [
    "from glob import glob\n",
    "import pandas as pd\n",
    "import os\n",
    "from skimage.io import imread, imsave, imshow\n",
    "from skimage import img_as_ubyte\n",
    "from matplotlib import pyplot as plt\n",
    "from PIL import UnidentifiedImageError\n",
    "from tqdm import tqdm\n",
    "import numpy as np\n",
    "from galaxyteam.dataset import resize_image\n",
    "from sklearn.model_selection import train_test_split \n",
    "\n"
   ]
  },
  {
   "cell_type": "code",
   "execution_count": 3,
   "metadata": {},
   "outputs": [],
   "source": [
    "train_info_file_path='./data/preprocessed/train_metadata.csv'\n",
    "\n",
    "full_train = pd.read_csv(train_info_file_path)\n",
    "\n",
    "train_data, val_data = train_test_split(full_train, \n",
    "test_size=0.2,\n",
    "shuffle=True,\n",
    "stratify=full_train.is_pneumonia,\n",
    "random_state=9473)\n"
   ]
  },
  {
   "cell_type": "code",
   "execution_count": 4,
   "metadata": {},
   "outputs": [],
   "source": [
    "test_info_file_path='./data/preprocessed/test_metadata.csv'\n",
    "\n",
    "test_data = pd.read_csv(test_info_file_path)\n",
    "\n"
   ]
  },
  {
   "cell_type": "code",
   "execution_count": 5,
   "metadata": {},
   "outputs": [],
   "source": [
    "\n",
    "X_train = [imread(path,as_gray=True) for path in train_data.resized_file_path]\n",
    "Y_train = np.array([pnu for pnu in train_data.is_pneumonia])\n",
    "X_val = [imread(path,as_gray=True) for path in val_data.resized_file_path]\n",
    "Y_val = np.array([pnu for pnu in val_data.is_pneumonia])\n",
    "X_test = [imread(path,as_gray=True) for path in test_data.resized_file_path]\n",
    "Y_test = np.array([pnu for pnu in test_data.is_pneumonia])\n"
   ]
  },
  {
   "cell_type": "code",
   "execution_count": 6,
   "metadata": {},
   "outputs": [
    {
     "data": {
      "text/plain": [
       "(3748, 224, 224)"
      ]
     },
     "execution_count": 6,
     "metadata": {},
     "output_type": "execute_result"
    }
   ],
   "source": [
    "np.shape(X_train)"
   ]
  },
  {
   "cell_type": "code",
   "execution_count": 7,
   "metadata": {},
   "outputs": [
    {
     "name": "stdout",
     "output_type": "stream",
     "text": [
      "X_train: (3748, 50176)\n",
      "X_test: (1171, 50176)\n",
      "X_val: (937, 50176)\n"
     ]
    }
   ],
   "source": [
    "from builtins import range\n",
    "from builtins import object\n",
    "\n",
    "\n",
    "# Reshape the image data into rows\n",
    "X_train = np.reshape(X_train, (np.shape(X_train)[0], -1))\n",
    "X_test = np.reshape(X_test, (np.shape(X_test)[0], -1))\n",
    "X_val = np.reshape(X_val, (np.shape(X_val)[0], -1))\n",
    "\n",
    "print(\"X_train: \"+str(np.shape(X_train)))\n",
    "print(\"X_test: \"+str(np.shape(X_test)))\n",
    "print(\"X_val: \"+str(np.shape(X_val)))"
   ]
  },
  {
   "cell_type": "code",
   "execution_count": 8,
   "metadata": {},
   "outputs": [],
   "source": [
    "class KNearestNeighbor(object):\n",
    "    \"\"\" a kNN classifier with L2 distance \"\"\"\n",
    "\n",
    "    def __init__(self):\n",
    "        pass\n",
    "\n",
    "    def predict_label(self, dists, k=1):\n",
    "        num_test = np.shape(dists)[0]\n",
    "        y_pred = np.zeros(num_test)\n",
    "        for i in range(num_test):\n",
    "            closest_y = []\n",
    "            closest_y = self.y_train[np.argsort(dists[i])][0:k]\n",
    "            y_pred[i] = np.bincount(closest_y).argmax()\n",
    "        return y_pred\n",
    "\n",
    "    def train(self, X, y):\n",
    "        \"\"\"\n",
    "        Train the classifier. For k-nearest neighbors this is just\n",
    "        memorizing the training data.\n",
    "\n",
    "        Inputs:\n",
    "        - X: A numpy array of shape (num_train, D) containing the training data\n",
    "          consisting of num_train samples each of dimension D.\n",
    "        - y: A numpy array of shape (N,) containing the training labels, where\n",
    "             y[i] is the label for X[i].\n",
    "        \"\"\"\n",
    "        self.X_train = X\n",
    "        self.y_train = y\n",
    "\n",
    "    def predict(self, X, k=1):\n",
    "        \"\"\"\n",
    "        Predict labels for test data using this classifier.\n",
    "\n",
    "        Inputs:\n",
    "        - X: A numpy array of shape (num_test, D) containing test data consisting\n",
    "             of num_test samples each of dimension D.\n",
    "        - k: The number of nearest neighbors that vote for the predicted labels.\n",
    "        - num_loops: Determines which implementation to use to compute distances\n",
    "          between training points and testing points.\n",
    "\n",
    "        Returns:\n",
    "        - y: A numpy array of shape (num_test,) containing predicted labels for the\n",
    "          test data, where y[i] is the predicted label for the test point X[i].\n",
    "        \"\"\"\n",
    "        dists = self.compute_distances_no_loops(X)\n",
    "\n",
    "        return self.predict_labels(dists, k=k)\n",
    "\n",
    "    def compute_distances_no_loops(self, X):\n",
    "        \"\"\"\n",
    "        Compute the distance between each test point in X and each training point\n",
    "        in self.X_train using no explicit loops.\n",
    "\n",
    "        Input / Output: Same as compute_distances_two_loops\n",
    "        \"\"\"\n",
    "        num_test = np.shape(X)[0]\n",
    "        num_train =np.shape( self.X_train)[0]\n",
    "        dists = np.zeros((num_test, num_train))\n",
    "        #########################################################################\n",
    "        dists = np.sqrt(np.power(X,2).sum(axis=1, keepdims  =1) + np.power(self.X_train,2 ).sum(axis=1) - 2 *(np.dot( X,np.transpose(self.X_train))))\n",
    "        return dists\n",
    "\n",
    "    def predict_labels(self, dists, k=1):\n",
    "        \"\"\"\n",
    "        Given a matrix of distances between test points and training points,\n",
    "        predict a label for each test point.\n",
    "\n",
    "        Inputs:\n",
    "        - dists: A numpy array of shape (num_test, num_train) where dists[i, j]\n",
    "          gives the distance betwen the ith test point and the jth training point.\n",
    "\n",
    "        Returns:\n",
    "        - y: A numpy array of shape (num_test,) containing predicted labels for the\n",
    "          test data, where y[i] is the predicted label for the test point X[i].\n",
    "        \"\"\"\n",
    "        num_test = np.shape(dists)[0]\n",
    "        y_pred = np.zeros(num_test)\n",
    "        for i in range(num_test):\n",
    "            # A list of length k storing the labels of the k nearest neighbors to\n",
    "            # the ith test point.\n",
    "            closest_y = []\n",
    "            closest_y = self.y_train[np.argsort(dists[i])][0:k]\n",
    "            closest_y = closest_y.astype(int)\n",
    "            y_pred[i] = np.bincount(closest_y).argmax()\n",
    "        return y_pred"
   ]
  },
  {
   "cell_type": "code",
   "execution_count": 9,
   "metadata": {},
   "outputs": [
    {
     "name": "stdout",
     "output_type": "stream",
     "text": [
      "Val Accuracy for k=1\n"
     ]
    },
    {
     "name": "stderr",
     "output_type": "stream",
     "text": [
      "C:\\Users\\beher\\AppData\\Local\\Temp\\ipykernel_17928\\3632573695.py:60: RuntimeWarning: invalid value encountered in sqrt\n",
      "  dists = np.sqrt(np.power(X,2).sum(axis=1, keepdims=1) + np.power(self.X_train,2 ).sum(axis=1) - 2 *(np.dot( X,np.transpose(self.X_train))))\n"
     ]
    }
   ],
   "source": [
    "print(\"Val Accuracy for k=1\")\n",
    "classifier = KNearestNeighbor()\n",
    "classifier.train(X_train, Y_train)\n",
    "dists = classifier.compute_distances_no_loops(X_val)\n",
    "Y_val_pred = classifier.predict_labels(dists, k=1)\n",
    "num_correct = np.sum(Y_val_pred == Y_val)\n"
   ]
  },
  {
   "cell_type": "code",
   "execution_count": 10,
   "metadata": {},
   "outputs": [
    {
     "name": "stdout",
     "output_type": "stream",
     "text": [
      "Got 845 / 937 correct => accuracy: 0.901814\n"
     ]
    }
   ],
   "source": [
    "num_val = np.shape(X_val)[0]\n",
    "accuracy = float(num_correct) / num_val\n",
    "print('Got %d / %d correct => accuracy: %f' % (num_correct, num_val, accuracy))\n"
   ]
  },
  {
   "cell_type": "code",
   "execution_count": 11,
   "metadata": {},
   "outputs": [
    {
     "name": "stdout",
     "output_type": "stream",
     "text": [
      "Using SKLEARN\n"
     ]
    },
    {
     "data": {
      "image/png": "[encoded data removed]",
      "text/plain": [
       "<Figure size 432x288 with 1 Axes>"
      ]
     },
     "metadata": {
      "needs_background": "light"
     },
     "output_type": "display_data"
    },
    {
     "name": "stdout",
     "output_type": "stream",
     "text": [
      "max acc at k=2 acc of 0.9146211312700107\n"
     ]
    }
   ],
   "source": [
    "print(\"Using SKLEARN\")\n",
    "lix = []\n",
    "liy = []\n",
    "index=0\n",
    "acc=0\n",
    "from sklearn.neighbors import KNeighborsClassifier\n",
    "for k in range(1, 100):\n",
    "    neigh = KNeighborsClassifier(n_neighbors=k)\n",
    "    neigh.fit(X_train, Y_train)\n",
    "    liy.append(neigh.score(X_val, Y_val))\n",
    "    if liy[k-1]>acc:\n",
    "        acc=liy[k-1]\n",
    "        index=k-1\n",
    "    lix.append(k)\n",
    "\n",
    "plt.plot(lix, liy)\n",
    "plt.show()\n",
    "print(\"max acc at k=\"+str(index+1)+\" acc of \"+str(acc))"
   ]
  },
  {
   "cell_type": "code",
   "execution_count": 12,
   "metadata": {},
   "outputs": [
    {
     "name": "stdout",
     "output_type": "stream",
     "text": [
      "Test Accuracy: 0.9128949615713066\n",
      "Using our own k-NN\n",
      "With k = 2 Got 1069 / 1171 correct => accuracy: 0.912895\n"
     ]
    }
   ],
   "source": [
    "neigh = KNeighborsClassifier(n_neighbors=2)\n",
    "neigh.fit(X_train, Y_train)\n",
    "print(\"Test Accuracy: \"+str(neigh.score(X_test, Y_test)))\n",
    "\n",
    "print(\"Using our own k-NN\")\n",
    "classifier = KNearestNeighbor()\n",
    "classifier.train(X_train, Y_train)\n",
    "dists = classifier.compute_distances_no_loops(X_test)\n",
    "Y_test_pred = classifier.predict_labels(dists, k=2)\n",
    "num_correct = np.sum(Y_test_pred == Y_test)\n",
    "num_test= np.shape(X_test)[0]\n",
    "accuracy = float(num_correct) / num_test\n",
    "print('With k = 2 Got %d / %d correct => accuracy: %f' % (num_correct, num_test, accuracy))"
   ]
  },
  {
   "cell_type": "code",
   "execution_count": 14,
   "metadata": {},
   "outputs": [
    {
     "name": "stdout",
     "output_type": "stream",
     "text": [
      "\n",
      "TESTING METRICS\n",
      "Accuracy: 0.9128949615713066%\n",
      "Precision: 93.89830508474576%\n",
      "F1-score: 94.21768707482991\n",
      "Recall: 94.53924914675767%\n"
     ]
    }
   ],
   "source": [
    "from sklearn.metrics import accuracy_score, confusion_matrix\n",
    "\n",
    "\n",
    "cm = confusion_matrix(Y_test, Y_test_pred)\n",
    "tn, fp, fn, tp = cm.ravel()\n",
    "\n",
    "\n",
    "\n",
    "print('\\nTESTING METRICS')\n",
    "precision = tp/(tp+fp)*100\n",
    "recall = tp/(tp+fn)*100\n",
    "print('Accuracy: {}%'.format(accuracy))\n",
    "print('Precision: {}%'.format(precision))\n",
    "print('F1-score: {}'.format(2*precision*recall/(precision+recall)))\n",
    "print('Recall: {}%'.format(recall))"
   ]
  },
  {
   "cell_type": "code",
   "execution_count": 22,
   "metadata": {},
   "outputs": [
    {
     "name": "stdout",
     "output_type": "stream",
     "text": [
      "Using SKLEARN\n"
     ]
    },
    {
     "name": "stderr",
     "output_type": "stream",
     "text": [
      "C:\\Users\\beher\\AppData\\Local\\Temp\\ipykernel_17928\\3632573695.py:60: RuntimeWarning: invalid value encountered in sqrt\n",
      "  dists = np.sqrt(np.power(X,2).sum(axis=1, keepdims=1) + np.power(self.X_train,2 ).sum(axis=1) - 2 *(np.dot( X,np.transpose(self.X_train))))\n",
      "C:\\Users\\beher\\AppData\\Local\\Temp\\ipykernel_17928\\3632573695.py:60: RuntimeWarning: invalid value encountered in sqrt\n",
      "  dists = np.sqrt(np.power(X,2).sum(axis=1, keepdims=1) + np.power(self.X_train,2 ).sum(axis=1) - 2 *(np.dot( X,np.transpose(self.X_train))))\n",
      "C:\\Users\\beher\\AppData\\Local\\Temp\\ipykernel_17928\\3632573695.py:60: RuntimeWarning: invalid value encountered in sqrt\n",
      "  dists = np.sqrt(np.power(X,2).sum(axis=1, keepdims=1) + np.power(self.X_train,2 ).sum(axis=1) - 2 *(np.dot( X,np.transpose(self.X_train))))\n",
      "C:\\Users\\beher\\AppData\\Local\\Temp\\ipykernel_17928\\3632573695.py:60: RuntimeWarning: invalid value encountered in sqrt\n",
      "  dists = np.sqrt(np.power(X,2).sum(axis=1, keepdims=1) + np.power(self.X_train,2 ).sum(axis=1) - 2 *(np.dot( X,np.transpose(self.X_train))))\n",
      "C:\\Users\\beher\\AppData\\Local\\Temp\\ipykernel_17928\\3632573695.py:60: RuntimeWarning: invalid value encountered in sqrt\n",
      "  dists = np.sqrt(np.power(X,2).sum(axis=1, keepdims=1) + np.power(self.X_train,2 ).sum(axis=1) - 2 *(np.dot( X,np.transpose(self.X_train))))\n",
      "C:\\Users\\beher\\AppData\\Local\\Temp\\ipykernel_17928\\3632573695.py:60: RuntimeWarning: invalid value encountered in sqrt\n",
      "  dists = np.sqrt(np.power(X,2).sum(axis=1, keepdims=1) + np.power(self.X_train,2 ).sum(axis=1) - 2 *(np.dot( X,np.transpose(self.X_train))))\n",
      "C:\\Users\\beher\\AppData\\Local\\Temp\\ipykernel_17928\\3632573695.py:60: RuntimeWarning: invalid value encountered in sqrt\n",
      "  dists = np.sqrt(np.power(X,2).sum(axis=1, keepdims=1) + np.power(self.X_train,2 ).sum(axis=1) - 2 *(np.dot( X,np.transpose(self.X_train))))\n",
      "C:\\Users\\beher\\AppData\\Local\\Temp\\ipykernel_17928\\3632573695.py:60: RuntimeWarning: invalid value encountered in sqrt\n",
      "  dists = np.sqrt(np.power(X,2).sum(axis=1, keepdims=1) + np.power(self.X_train,2 ).sum(axis=1) - 2 *(np.dot( X,np.transpose(self.X_train))))\n",
      "C:\\Users\\beher\\AppData\\Local\\Temp\\ipykernel_17928\\3632573695.py:60: RuntimeWarning: invalid value encountered in sqrt\n",
      "  dists = np.sqrt(np.power(X,2).sum(axis=1, keepdims=1) + np.power(self.X_train,2 ).sum(axis=1) - 2 *(np.dot( X,np.transpose(self.X_train))))\n",
      "C:\\Users\\beher\\AppData\\Local\\Temp\\ipykernel_17928\\3632573695.py:60: RuntimeWarning: invalid value encountered in sqrt\n",
      "  dists = np.sqrt(np.power(X,2).sum(axis=1, keepdims=1) + np.power(self.X_train,2 ).sum(axis=1) - 2 *(np.dot( X,np.transpose(self.X_train))))\n",
      "C:\\Users\\beher\\AppData\\Local\\Temp\\ipykernel_17928\\3632573695.py:60: RuntimeWarning: invalid value encountered in sqrt\n",
      "  dists = np.sqrt(np.power(X,2).sum(axis=1, keepdims=1) + np.power(self.X_train,2 ).sum(axis=1) - 2 *(np.dot( X,np.transpose(self.X_train))))\n",
      "C:\\Users\\beher\\AppData\\Local\\Temp\\ipykernel_17928\\3632573695.py:60: RuntimeWarning: invalid value encountered in sqrt\n",
      "  dists = np.sqrt(np.power(X,2).sum(axis=1, keepdims=1) + np.power(self.X_train,2 ).sum(axis=1) - 2 *(np.dot( X,np.transpose(self.X_train))))\n",
      "C:\\Users\\beher\\AppData\\Local\\Temp\\ipykernel_17928\\3632573695.py:60: RuntimeWarning: invalid value encountered in sqrt\n",
      "  dists = np.sqrt(np.power(X,2).sum(axis=1, keepdims=1) + np.power(self.X_train,2 ).sum(axis=1) - 2 *(np.dot( X,np.transpose(self.X_train))))\n",
      "C:\\Users\\beher\\AppData\\Local\\Temp\\ipykernel_17928\\3632573695.py:60: RuntimeWarning: invalid value encountered in sqrt\n",
      "  dists = np.sqrt(np.power(X,2).sum(axis=1, keepdims=1) + np.power(self.X_train,2 ).sum(axis=1) - 2 *(np.dot( X,np.transpose(self.X_train))))\n",
      "C:\\Users\\beher\\AppData\\Local\\Temp\\ipykernel_17928\\3632573695.py:60: RuntimeWarning: invalid value encountered in sqrt\n",
      "  dists = np.sqrt(np.power(X,2).sum(axis=1, keepdims=1) + np.power(self.X_train,2 ).sum(axis=1) - 2 *(np.dot( X,np.transpose(self.X_train))))\n",
      "C:\\Users\\beher\\AppData\\Local\\Temp\\ipykernel_17928\\3632573695.py:60: RuntimeWarning: invalid value encountered in sqrt\n",
      "  dists = np.sqrt(np.power(X,2).sum(axis=1, keepdims=1) + np.power(self.X_train,2 ).sum(axis=1) - 2 *(np.dot( X,np.transpose(self.X_train))))\n",
      "C:\\Users\\beher\\AppData\\Local\\Temp\\ipykernel_17928\\3632573695.py:60: RuntimeWarning: invalid value encountered in sqrt\n",
      "  dists = np.sqrt(np.power(X,2).sum(axis=1, keepdims=1) + np.power(self.X_train,2 ).sum(axis=1) - 2 *(np.dot( X,np.transpose(self.X_train))))\n",
      "C:\\Users\\beher\\AppData\\Local\\Temp\\ipykernel_17928\\3632573695.py:60: RuntimeWarning: invalid value encountered in sqrt\n",
      "  dists = np.sqrt(np.power(X,2).sum(axis=1, keepdims=1) + np.power(self.X_train,2 ).sum(axis=1) - 2 *(np.dot( X,np.transpose(self.X_train))))\n",
      "C:\\Users\\beher\\AppData\\Local\\Temp\\ipykernel_17928\\3632573695.py:60: RuntimeWarning: invalid value encountered in sqrt\n",
      "  dists = np.sqrt(np.power(X,2).sum(axis=1, keepdims=1) + np.power(self.X_train,2 ).sum(axis=1) - 2 *(np.dot( X,np.transpose(self.X_train))))\n",
      "C:\\Users\\beher\\AppData\\Local\\Temp\\ipykernel_17928\\3632573695.py:60: RuntimeWarning: invalid value encountered in sqrt\n",
      "  dists = np.sqrt(np.power(X,2).sum(axis=1, keepdims=1) + np.power(self.X_train,2 ).sum(axis=1) - 2 *(np.dot( X,np.transpose(self.X_train))))\n",
      "C:\\Users\\beher\\AppData\\Local\\Temp\\ipykernel_17928\\3632573695.py:60: RuntimeWarning: invalid value encountered in sqrt\n",
      "  dists = np.sqrt(np.power(X,2).sum(axis=1, keepdims=1) + np.power(self.X_train,2 ).sum(axis=1) - 2 *(np.dot( X,np.transpose(self.X_train))))\n",
      "C:\\Users\\beher\\AppData\\Local\\Temp\\ipykernel_17928\\3632573695.py:60: RuntimeWarning: invalid value encountered in sqrt\n",
      "  dists = np.sqrt(np.power(X,2).sum(axis=1, keepdims=1) + np.power(self.X_train,2 ).sum(axis=1) - 2 *(np.dot( X,np.transpose(self.X_train))))\n",
      "C:\\Users\\beher\\AppData\\Local\\Temp\\ipykernel_17928\\3632573695.py:60: RuntimeWarning: invalid value encountered in sqrt\n",
      "  dists = np.sqrt(np.power(X,2).sum(axis=1, keepdims=1) + np.power(self.X_train,2 ).sum(axis=1) - 2 *(np.dot( X,np.transpose(self.X_train))))\n",
      "C:\\Users\\beher\\AppData\\Local\\Temp\\ipykernel_17928\\3632573695.py:60: RuntimeWarning: invalid value encountered in sqrt\n",
      "  dists = np.sqrt(np.power(X,2).sum(axis=1, keepdims=1) + np.power(self.X_train,2 ).sum(axis=1) - 2 *(np.dot( X,np.transpose(self.X_train))))\n",
      "C:\\Users\\beher\\AppData\\Local\\Temp\\ipykernel_17928\\3632573695.py:60: RuntimeWarning: invalid value encountered in sqrt\n",
      "  dists = np.sqrt(np.power(X,2).sum(axis=1, keepdims=1) + np.power(self.X_train,2 ).sum(axis=1) - 2 *(np.dot( X,np.transpose(self.X_train))))\n",
      "C:\\Users\\beher\\AppData\\Local\\Temp\\ipykernel_17928\\3632573695.py:60: RuntimeWarning: invalid value encountered in sqrt\n",
      "  dists = np.sqrt(np.power(X,2).sum(axis=1, keepdims=1) + np.power(self.X_train,2 ).sum(axis=1) - 2 *(np.dot( X,np.transpose(self.X_train))))\n",
      "C:\\Users\\beher\\AppData\\Local\\Temp\\ipykernel_17928\\3632573695.py:60: RuntimeWarning: invalid value encountered in sqrt\n",
      "  dists = np.sqrt(np.power(X,2).sum(axis=1, keepdims=1) + np.power(self.X_train,2 ).sum(axis=1) - 2 *(np.dot( X,np.transpose(self.X_train))))\n",
      "C:\\Users\\beher\\AppData\\Local\\Temp\\ipykernel_17928\\3632573695.py:60: RuntimeWarning: invalid value encountered in sqrt\n",
      "  dists = np.sqrt(np.power(X,2).sum(axis=1, keepdims=1) + np.power(self.X_train,2 ).sum(axis=1) - 2 *(np.dot( X,np.transpose(self.X_train))))\n",
      "C:\\Users\\beher\\AppData\\Local\\Temp\\ipykernel_17928\\3632573695.py:60: RuntimeWarning: invalid value encountered in sqrt\n",
      "  dists = np.sqrt(np.power(X,2).sum(axis=1, keepdims=1) + np.power(self.X_train,2 ).sum(axis=1) - 2 *(np.dot( X,np.transpose(self.X_train))))\n",
      "C:\\Users\\beher\\AppData\\Local\\Temp\\ipykernel_17928\\3632573695.py:60: RuntimeWarning: invalid value encountered in sqrt\n",
      "  dists = np.sqrt(np.power(X,2).sum(axis=1, keepdims=1) + np.power(self.X_train,2 ).sum(axis=1) - 2 *(np.dot( X,np.transpose(self.X_train))))\n",
      "C:\\Users\\beher\\AppData\\Local\\Temp\\ipykernel_17928\\3632573695.py:60: RuntimeWarning: invalid value encountered in sqrt\n",
      "  dists = np.sqrt(np.power(X,2).sum(axis=1, keepdims=1) + np.power(self.X_train,2 ).sum(axis=1) - 2 *(np.dot( X,np.transpose(self.X_train))))\n",
      "C:\\Users\\beher\\AppData\\Local\\Temp\\ipykernel_17928\\3632573695.py:60: RuntimeWarning: invalid value encountered in sqrt\n",
      "  dists = np.sqrt(np.power(X,2).sum(axis=1, keepdims=1) + np.power(self.X_train,2 ).sum(axis=1) - 2 *(np.dot( X,np.transpose(self.X_train))))\n",
      "C:\\Users\\beher\\AppData\\Local\\Temp\\ipykernel_17928\\3632573695.py:60: RuntimeWarning: invalid value encountered in sqrt\n",
      "  dists = np.sqrt(np.power(X,2).sum(axis=1, keepdims=1) + np.power(self.X_train,2 ).sum(axis=1) - 2 *(np.dot( X,np.transpose(self.X_train))))\n",
      "C:\\Users\\beher\\AppData\\Local\\Temp\\ipykernel_17928\\3632573695.py:60: RuntimeWarning: invalid value encountered in sqrt\n",
      "  dists = np.sqrt(np.power(X,2).sum(axis=1, keepdims=1) + np.power(self.X_train,2 ).sum(axis=1) - 2 *(np.dot( X,np.transpose(self.X_train))))\n",
      "C:\\Users\\beher\\AppData\\Local\\Temp\\ipykernel_17928\\3632573695.py:60: RuntimeWarning: invalid value encountered in sqrt\n",
      "  dists = np.sqrt(np.power(X,2).sum(axis=1, keepdims=1) + np.power(self.X_train,2 ).sum(axis=1) - 2 *(np.dot( X,np.transpose(self.X_train))))\n",
      "C:\\Users\\beher\\AppData\\Local\\Temp\\ipykernel_17928\\3632573695.py:60: RuntimeWarning: invalid value encountered in sqrt\n",
      "  dists = np.sqrt(np.power(X,2).sum(axis=1, keepdims=1) + np.power(self.X_train,2 ).sum(axis=1) - 2 *(np.dot( X,np.transpose(self.X_train))))\n",
      "C:\\Users\\beher\\AppData\\Local\\Temp\\ipykernel_17928\\3632573695.py:60: RuntimeWarning: invalid value encountered in sqrt\n",
      "  dists = np.sqrt(np.power(X,2).sum(axis=1, keepdims=1) + np.power(self.X_train,2 ).sum(axis=1) - 2 *(np.dot( X,np.transpose(self.X_train))))\n",
      "C:\\Users\\beher\\AppData\\Local\\Temp\\ipykernel_17928\\3632573695.py:60: RuntimeWarning: invalid value encountered in sqrt\n",
      "  dists = np.sqrt(np.power(X,2).sum(axis=1, keepdims=1) + np.power(self.X_train,2 ).sum(axis=1) - 2 *(np.dot( X,np.transpose(self.X_train))))\n",
      "C:\\Users\\beher\\AppData\\Local\\Temp\\ipykernel_17928\\3632573695.py:60: RuntimeWarning: invalid value encountered in sqrt\n",
      "  dists = np.sqrt(np.power(X,2).sum(axis=1, keepdims=1) + np.power(self.X_train,2 ).sum(axis=1) - 2 *(np.dot( X,np.transpose(self.X_train))))\n",
      "C:\\Users\\beher\\AppData\\Local\\Temp\\ipykernel_17928\\3632573695.py:60: RuntimeWarning: invalid value encountered in sqrt\n",
      "  dists = np.sqrt(np.power(X,2).sum(axis=1, keepdims=1) + np.power(self.X_train,2 ).sum(axis=1) - 2 *(np.dot( X,np.transpose(self.X_train))))\n",
      "C:\\Users\\beher\\AppData\\Local\\Temp\\ipykernel_17928\\3632573695.py:60: RuntimeWarning: invalid value encountered in sqrt\n",
      "  dists = np.sqrt(np.power(X,2).sum(axis=1, keepdims=1) + np.power(self.X_train,2 ).sum(axis=1) - 2 *(np.dot( X,np.transpose(self.X_train))))\n",
      "C:\\Users\\beher\\AppData\\Local\\Temp\\ipykernel_17928\\3632573695.py:60: RuntimeWarning: invalid value encountered in sqrt\n",
      "  dists = np.sqrt(np.power(X,2).sum(axis=1, keepdims=1) + np.power(self.X_train,2 ).sum(axis=1) - 2 *(np.dot( X,np.transpose(self.X_train))))\n",
      "C:\\Users\\beher\\AppData\\Local\\Temp\\ipykernel_17928\\3632573695.py:60: RuntimeWarning: invalid value encountered in sqrt\n",
      "  dists = np.sqrt(np.power(X,2).sum(axis=1, keepdims=1) + np.power(self.X_train,2 ).sum(axis=1) - 2 *(np.dot( X,np.transpose(self.X_train))))\n",
      "C:\\Users\\beher\\AppData\\Local\\Temp\\ipykernel_17928\\3632573695.py:60: RuntimeWarning: invalid value encountered in sqrt\n",
      "  dists = np.sqrt(np.power(X,2).sum(axis=1, keepdims=1) + np.power(self.X_train,2 ).sum(axis=1) - 2 *(np.dot( X,np.transpose(self.X_train))))\n",
      "C:\\Users\\beher\\AppData\\Local\\Temp\\ipykernel_17928\\3632573695.py:60: RuntimeWarning: invalid value encountered in sqrt\n",
      "  dists = np.sqrt(np.power(X,2).sum(axis=1, keepdims=1) + np.power(self.X_train,2 ).sum(axis=1) - 2 *(np.dot( X,np.transpose(self.X_train))))\n",
      "C:\\Users\\beher\\AppData\\Local\\Temp\\ipykernel_17928\\3632573695.py:60: RuntimeWarning: invalid value encountered in sqrt\n",
      "  dists = np.sqrt(np.power(X,2).sum(axis=1, keepdims=1) + np.power(self.X_train,2 ).sum(axis=1) - 2 *(np.dot( X,np.transpose(self.X_train))))\n",
      "C:\\Users\\beher\\AppData\\Local\\Temp\\ipykernel_17928\\3632573695.py:60: RuntimeWarning: invalid value encountered in sqrt\n",
      "  dists = np.sqrt(np.power(X,2).sum(axis=1, keepdims=1) + np.power(self.X_train,2 ).sum(axis=1) - 2 *(np.dot( X,np.transpose(self.X_train))))\n",
      "C:\\Users\\beher\\AppData\\Local\\Temp\\ipykernel_17928\\3632573695.py:60: RuntimeWarning: invalid value encountered in sqrt\n",
      "  dists = np.sqrt(np.power(X,2).sum(axis=1, keepdims=1) + np.power(self.X_train,2 ).sum(axis=1) - 2 *(np.dot( X,np.transpose(self.X_train))))\n",
      "C:\\Users\\beher\\AppData\\Local\\Temp\\ipykernel_17928\\3632573695.py:60: RuntimeWarning: invalid value encountered in sqrt\n",
      "  dists = np.sqrt(np.power(X,2).sum(axis=1, keepdims=1) + np.power(self.X_train,2 ).sum(axis=1) - 2 *(np.dot( X,np.transpose(self.X_train))))\n"
     ]
    },
    {
     "data": {
      "image/png": "[encoded data removed]",
      "text/plain": [
       "<Figure size 432x288 with 1 Axes>"
      ]
     },
     "metadata": {
      "needs_background": "light"
     },
     "output_type": "display_data"
    },
    {
     "name": "stdout",
     "output_type": "stream",
     "text": [
      "max f1 at k=18 acc of 94.39775910364145\n"
     ]
    }
   ],
   "source": [
    "lix = []\n",
    "liy = []\n",
    "index=0\n",
    "f1=0\n",
    "from sklearn.neighbors import KNeighborsClassifier\n",
    "for k in range(1, 50):\n",
    "    classifier = KNearestNeighbor()\n",
    "    classifier.train(X_train, Y_train)\n",
    "    dists = classifier.compute_distances_no_loops(X_val)\n",
    "    Y_val_pred = classifier.predict_labels(dists, k)  \n",
    "    \n",
    "    cm = confusion_matrix(Y_val, Y_val_pred)\n",
    "    tn, fp, fn, tp = cm.ravel()\n",
    "    precision = tp/(tp+fp)*100\n",
    "    recall = tp/(tp+fn)*100\n",
    "    liy.append(2*precision*recall/(precision+recall))\n",
    "    if liy[k-1]>f1:\n",
    "        f1=liy[k-1]\n",
    "        index=k-1\n",
    "    lix.append(k)\n",
    "\n",
    "plt.plot(lix, liy)\n",
    "plt.show()\n",
    "print(\"max f1 at k=\"+str(index+1)+\" acc of \"+str(f1))"
   ]
  },
  {
   "cell_type": "code",
   "execution_count": 30,
   "metadata": {},
   "outputs": [
    {
     "name": "stdout",
     "output_type": "stream",
     "text": [
      "CONFUSION MATRIX\n"
     ]
    },
    {
     "data": {
      "text/plain": [
       "<Figure size 432x288 with 0 Axes>"
      ]
     },
     "metadata": {},
     "output_type": "display_data"
    },
    {
     "data": {
      "image/png": "[encoded data removed]",
      "text/plain": [
       "<Figure size 864x576 with 1 Axes>"
      ]
     },
     "metadata": {
      "needs_background": "light"
     },
     "output_type": "display_data"
    },
    {
     "name": "stdout",
     "output_type": "stream",
     "text": [
      "\n",
      "TESTING METRICS\n",
      "Accuracy: 0.9171648163962425%\n",
      "Precision: 91.15789473684211%\n",
      "F1-score: 94.6965554948059\n",
      "Recall: 98.52104664391354%\n"
     ]
    }
   ],
   "source": [
    "from sklearn.metrics import accuracy_score, confusion_matrix\n",
    "from mlxtend.plotting import plot_confusion_matrix\n",
    "neigh = KNeighborsClassifier(n_neighbors=18)\n",
    "neigh.fit(X_train, Y_train)\n",
    "\n",
    "\n",
    "\n",
    "classifier = KNearestNeighbor()\n",
    "classifier.train(X_train, Y_train)\n",
    "dists = classifier.compute_distances_no_loops(X_test)\n",
    "Y_test_pred = classifier.predict_labels(dists, k=18)\n",
    "num_correct = np.sum(Y_test_pred == Y_test)\n",
    "num_test= np.shape(X_test)[0]\n",
    "accuracy = float(num_correct) / num_test\n",
    "\n",
    "cm = confusion_matrix(Y_test, Y_test_pred)\n",
    "tn, fp, fn, tp = cm.ravel()\n",
    "\n",
    "print('CONFUSION MATRIX')\n",
    "plt.figure()\n",
    "plot_confusion_matrix(cm,figsize=(12,8), hide_ticks=True, cmap=plt.cm.Blues)\n",
    "plt.xticks(range(2), ['Normal', 'Pneumonia'], fontsize=16)\n",
    "plt.yticks(range(2), ['Normal', 'Pneumonia'], fontsize=16)\n",
    "plt.show()\n",
    "\n",
    "print('\\nTESTING METRICS')\n",
    "precision = tp/(tp+fp)*100\n",
    "recall = tp/(tp+fn)*100\n",
    "print('Accuracy: {}%'.format(accuracy))\n",
    "print('Precision: {}%'.format(precision))\n",
    "print('F1-score: {}'.format(2*precision*recall/(precision+recall)))\n",
    "print('Recall: {}%'.format(recall))"
   ]
  },
  {
   "cell_type": "code",
   "execution_count": null,
   "metadata": {},
   "outputs": [],
   "source": []
  }
 ],
 "metadata": {
  "interpreter": {
   "hash": "4ca10a9c692aefdeca7e94d0c6495245fbf580e4abd41f18535d152f6386bff5"
  },
  "kernelspec": {
   "display_name": "Python 3.9.12 ('chandra')",
   "language": "python",
   "name": "python3"
  },
  "language_info": {
   "codemirror_mode": {
    "name": "ipython",
    "version": 3
   },
   "file_extension": ".py",
   "mimetype": "text/x-python",
   "name": "python",
   "nbconvert_exporter": "python",
   "pygments_lexer": "ipython3",
   "version": "3.9.12"
  },
  "orig_nbformat": 4
 },
 "nbformat": 4,
 "nbformat_minor": 2
}
