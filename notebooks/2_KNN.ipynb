{
 "cells": [
  {
   "cell_type": "code",
   "execution_count": 2,
   "metadata": {},
   "outputs": [],
   "source": [
    "\n",
    "import numpy as np\n",
    "import pandas as pd\n",
    "from skimage.io import imread\n",
    "from matplotlib import pyplot as plt\n",
    "from galaxyteam.dataset import resize_image\n",
    "from sklearn.model_selection import train_test_split \n",
    "from sklearn import metrics\n",
    "from sklearn.metrics import accuracy_score, confusion_matrix\n",
    "from mlxtend.plotting import plot_confusion_matrix\n",
    "from sklearn.neighbors import KNeighborsClassifier\n",
    "\n",
    "\n"
   ]
  },
  {
   "cell_type": "markdown",
   "metadata": {},
   "source": [
    "\n",
    "## KNN\n",
    "\n",
    "K-Nearest Neighbours (k-NN) is a supervised machine learning algorithm. It can be used for classification and regression. Since ours is a classification problem, the output is a  is a class membership. The data is being assigned to the class most common among its k nearest neighbors.\n",
    "\n",
    "The k-NN algorithm is one of the simplest of the machine learning algorithms. The model only consists of the training data, that is, the model simply learns the entire training set and for prediction gives the output as the class with the majority in the ‘k’ nearest neighbours calculated according to some distance metric."
   ]
  },
  {
   "cell_type": "markdown",
   "metadata": {},
   "source": [
    "<center>\n",
    "<img src=\"knn.png\"/>\n",
    "</center>\n",
    "\n",
    "\n",
    "Example of k-NN classification. The test sample (green dot) should be classified either to blue squares or to red triangles. If k = 3 (solid line circle) it is assigned to the red triangles because there are 2 triangles and only 1 square inside the inner circle. If k = 5 (dashed line circle) it is assigned to the blue squares (3 squares vs. 2 triangles inside the outer circle).\n",
    "\n",
    "Reference: https://en.wikipedia.org/wiki/K-nearest_neighbors_algorithm"
   ]
  },
  {
   "cell_type": "code",
   "execution_count": 3,
   "metadata": {},
   "outputs": [],
   "source": [
    "train_info_file_path='./data/preprocessed/train_metadata.csv'\n",
    "\n",
    "full_train = pd.read_csv(train_info_file_path)\n",
    "\n",
    "train_data, val_data = train_test_split(full_train, \n",
    "test_size=0.2,\n",
    "shuffle=True,\n",
    "stratify=full_train.is_pneumonia,\n",
    "random_state=9473)\n"
   ]
  },
  {
   "cell_type": "code",
   "execution_count": 4,
   "metadata": {},
   "outputs": [],
   "source": [
    "test_info_file_path='./data/preprocessed/test_metadata.csv'\n",
    "\n",
    "test_data = pd.read_csv(test_info_file_path)\n",
    "\n"
   ]
  },
  {
   "cell_type": "markdown",
   "metadata": {},
   "source": [
    "We read all images in the data/train directory, and convert the images into grayscale."
   ]
  },
  {
   "cell_type": "code",
   "execution_count": 6,
   "metadata": {},
   "outputs": [],
   "source": [
    "\n",
    "X_train = [imread(path,as_gray=True) for path in train_data.resized_file_path]\n",
    "Y_train = np.array([pnu for pnu in train_data.is_pneumonia])\n",
    "X_val = [imread(path,as_gray=True) for path in val_data.resized_file_path]\n",
    "Y_val = np.array([pnu for pnu in val_data.is_pneumonia])\n",
    "X_test = [imread(path,as_gray=True) for path in test_data.resized_file_path]\n",
    "Y_test = np.array([pnu for pnu in test_data.is_pneumonia])\n"
   ]
  },
  {
   "cell_type": "code",
   "execution_count": 7,
   "metadata": {},
   "outputs": [
    {
     "name": "stdout",
     "output_type": "stream",
     "text": [
      "X_train: (3748, 224, 224)\n",
      "X_test: (1171, 224, 224)\n",
      "X_val: (937, 224, 224)\n",
      "Y_train: (3748,)\n",
      "Y_test: (1171,)\n",
      "Y_val: (937,)\n"
     ]
    }
   ],
   "source": [
    "print(\"X_train: \"+str(np.shape(X_train)))\n",
    "print(\"X_test: \"+str(np.shape((X_test))))\n",
    "print(\"X_val: \"+str(np.shape(X_val)))\n",
    "print(\"Y_train: \"+str(np.shape(Y_train)))\n",
    "print(\"Y_test: \"+str(np.shape(Y_test)))\n",
    "print(\"Y_val: \"+str(np.shape(Y_val)))"
   ]
  },
  {
   "cell_type": "code",
   "execution_count": 8,
   "metadata": {},
   "outputs": [
    {
     "name": "stdout",
     "output_type": "stream",
     "text": [
      "X_train: (3748, 50176)\n",
      "X_test: (1171, 50176)\n",
      "X_val: (937, 50176)\n"
     ]
    }
   ],
   "source": [
    "# Reshape the image data into rows\n",
    "X_train = np.reshape(X_train, (np.shape(X_train)[0], -1))\n",
    "X_test = np.reshape(X_test, (np.shape(X_test)[0], -1))\n",
    "X_val = np.reshape(X_val, (np.shape(X_val)[0], -1))\n",
    "\n",
    "print(\"X_train: \"+str(np.shape(X_train)))\n",
    "print(\"X_test: \"+str(np.shape(X_test)))\n",
    "print(\"X_val: \"+str(np.shape(X_val)))"
   ]
  },
  {
   "cell_type": "markdown",
   "metadata": {},
   "source": [
    "## Finding the best ‘k’\n",
    "\n",
    "Now, we will run a loop to find the best k values starting from 1 to 50 based on the F1-score of the validation set."
   ]
  },
  {
   "cell_type": "code",
   "execution_count": 9,
   "metadata": {},
   "outputs": [
    {
     "data": {
      "image/png": "[encoded data removed]",
      "text/plain": [
       "<Figure size 432x288 with 1 Axes>"
      ]
     },
     "metadata": {
      "needs_background": "light"
     },
     "output_type": "display_data"
    },
    {
     "name": "stdout",
     "output_type": "stream",
     "text": [
      "max F1 at k=18 F1-Score of 94.39775910364145\n"
     ]
    }
   ],
   "source": [
    "lix = []\n",
    "liy = []\n",
    "index=0\n",
    "f1=0\n",
    "\n",
    "for k in range(1, 50):\n",
    "   model = KNeighborsClassifier(n_neighbors=k)\n",
    "   model.fit(X_train,Y_train)\n",
    "   Y_val_pred = model.predict(X_val) \n",
    "   cm = confusion_matrix(Y_val, Y_val_pred)\n",
    "   tn, fp, fn, tp = cm.ravel()\n",
    "   precision = tp/(tp+fp)*100\n",
    "   recall = tp/(tp+fn)*100\n",
    "   liy.append(2*precision*recall/(precision+recall))\n",
    "   if liy[k-1]>f1:\n",
    "      f1=liy[k-1]\n",
    "      index=k-1\n",
    "   lix.append(k)\n",
    "\n",
    "plt.plot(lix, liy)\n",
    "plt.show()\n",
    "print(\"max F1 at k=\"+str(index+1)+\" F1-Score of \"+str(f1)) "
   ]
  },
  {
   "cell_type": "markdown",
   "metadata": {},
   "source": [
    "## Finding Test Accuracy for best 'k'\n",
    "\n",
    "The  F1- score was best for k=18, so we will now fix k=18 and find the F1-score on the test data."
   ]
  },
  {
   "cell_type": "code",
   "execution_count": 10,
   "metadata": {},
   "outputs": [
    {
     "name": "stdout",
     "output_type": "stream",
     "text": [
      "CONFUSION MATRIX\n"
     ]
    },
    {
     "data": {
      "text/plain": [
       "<Figure size 432x288 with 0 Axes>"
      ]
     },
     "metadata": {},
     "output_type": "display_data"
    },
    {
     "data": {
      "image/png": "[encoded data removed]",
      "text/plain": [
       "<Figure size 864x576 with 1 Axes>"
      ]
     },
     "metadata": {
      "needs_background": "light"
     },
     "output_type": "display_data"
    },
    {
     "name": "stdout",
     "output_type": "stream",
     "text": [
      "\n",
      "TESTING METRICS for k=18\n",
      "Accuracy: 0.9171648163962425%\n",
      "Precision: 91.15789473684211%\n",
      "F1-score: 94.6965554948059\n",
      "Recall: 98.52104664391354%\n"
     ]
    }
   ],
   "source": [
    "model = KNeighborsClassifier(n_neighbors=18)\n",
    "model.fit(X_train,Y_train)\n",
    "Y_pred = model.predict(X_test) \n",
    "cm = confusion_matrix(Y_test, Y_pred)\n",
    "tn, fp, fn, tp = cm.ravel()\n",
    "\n",
    "\n",
    "print('CONFUSION MATRIX')\n",
    "plt.figure()\n",
    "plot_confusion_matrix(cm,figsize=(12,8), hide_ticks=True, cmap=plt.cm.Blues)\n",
    "plt.xticks(range(2), ['Normal', 'Pneumonia'], fontsize=16)\n",
    "plt.yticks(range(2), ['Normal', 'Pneumonia'], fontsize=16)\n",
    "plt.show()\n",
    "\n",
    "print('\\nTESTING METRICS for k=18')\n",
    "precision = tp/(tp+fp)*100\n",
    "recall = tp/(tp+fn)*100\n",
    "acc = metrics.accuracy_score(Y_test, Y_pred)\n",
    "print('Accuracy: {}%'.format(acc))\n",
    "print('Precision: {}%'.format(precision))\n",
    "print('F1-score: {}'.format(2*precision*recall/(precision+recall)))\n",
    "print('Recall: {}%'.format(recall))\n",
    "\n"
   ]
  },
  {
   "cell_type": "code",
   "execution_count": null,
   "metadata": {},
   "outputs": [],
   "source": []
  },
  {
   "cell_type": "code",
   "execution_count": null,
   "metadata": {},
   "outputs": [],
   "source": []
  }
 ],
 "metadata": {
  "interpreter": {
   "hash": "4ca10a9c692aefdeca7e94d0c6495245fbf580e4abd41f18535d152f6386bff5"
  },
  "kernelspec": {
   "display_name": "Python 3 (ipykernel)",
   "language": "python",
   "name": "python3"
  },
  "language_info": {
   "codemirror_mode": {
    "name": "ipython",
    "version": 3
   },
   "file_extension": ".py",
   "mimetype": "text/x-python",
   "name": "python",
   "nbconvert_exporter": "python",
   "pygments_lexer": "ipython3",
   "version": "3.7.1"
  }
 },
 "nbformat": 4,
 "nbformat_minor": 2
}
