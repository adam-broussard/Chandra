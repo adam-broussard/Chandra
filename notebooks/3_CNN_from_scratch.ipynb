{
 "cells": [
  {
   "cell_type": "code",
   "execution_count": 1,
   "id": "4a5205a5",
   "metadata": {},
   "outputs": [],
   "source": [
    "from galaxyteam.models import cnn\n",
    "from matplotlib import pyplot as plt"
   ]
  },
  {
   "cell_type": "code",
   "execution_count": null,
   "id": "930e5aa3",
   "metadata": {
    "scrolled": false
   },
   "outputs": [
    {
     "name": "stderr",
     "output_type": "stream",
     "text": [
      "2022-06-01 15:55:38.755563: I tensorflow/compiler/jit/xla_cpu_device.cc:41] Not creating XLA devices, tf_xla_enable_xla_devices not set\n",
      "2022-06-01 15:55:38.755733: I tensorflow/core/platform/cpu_feature_guard.cc:142] This TensorFlow binary is optimized with oneAPI Deep Neural Network Library (oneDNN) to use the following CPU instructions in performance-critical operations:  SSE4.1 SSE4.2 AVX AVX2 FMA\n",
      "To enable them in other operations, rebuild TensorFlow with the appropriate compiler flags.\n",
      "2022-06-01 15:55:38.756830: I tensorflow/core/common_runtime/process_util.cc:146] Creating new thread pool with default inter op setting: 2. Tune using inter_op_parallelism_threads for best performance.\n",
      "2022-06-01 15:55:38.932764: I tensorflow/compiler/mlir/mlir_graph_optimization_pass.cc:116] None of the MLIR optimization passes are enabled (registered 2)\n",
      "2022-06-01 15:55:38.952663: I tensorflow/core/platform/profile_utils/cpu_utils.cc:112] CPU Frequency: 2199995000 Hz\n"
     ]
    },
    {
     "name": "stdout",
     "output_type": "stream",
     "text": [
      "Epoch 1/25\n",
      "30/30 [==============================] - 41s 1s/step - loss: 8.6989 - recall: 0.5767 - precision: 0.7486 - val_loss: 0.4927 - val_recall: 0.9956 - val_precision: 0.7660\n",
      "Epoch 2/25\n",
      "30/30 [==============================] - 40s 1s/step - loss: 0.5484 - recall: 0.8093 - precision: 0.8140 - val_loss: 0.3359 - val_recall: 0.9722 - val_precision: 0.9035\n",
      "Epoch 3/25\n",
      " 9/30 [========>.....................] - ETA: 27s - loss: 0.4798 - recall: 0.8525 - precision: 0.8696"
     ]
    }
   ],
   "source": [
    "history, model = cnn.train_cnn(batch_size=128)"
   ]
  },
  {
   "cell_type": "code",
   "execution_count": null,
   "id": "8914ffbd",
   "metadata": {},
   "outputs": [],
   "source": [
    "fig = plt.figure(figsize=(24, 8))\n",
    "sp1 = fig.add_subplot(131)\n",
    "sp2 = fig.add_subplot(132)\n",
    "sp3 = fig.add_subplot(133)\n",
    "\n",
    "num_epochs = range(1, 26)\n",
    "\n",
    "sp1.plot(num_epochs, history.history['loss'], linewidth=2, label='Train')\n",
    "sp1.plot(num_epochs, history.history['val_loss'], linewidth=2, label='Val')\n",
    "\n",
    "sp2.plot(num_epochs, history.history['recall'], linewidth=2, label='Train')\n",
    "sp2.plot(num_epochs, history.history['val_recall'], linewidth=2, label='Val')\n",
    "\n",
    "sp3.plot(num_epochs, history.history['precision'], linewidth=2, label='Train')\n",
    "sp3.plot(num_epochs, history.history['val_precision'], linewidth=2, label='Val')\n",
    "\n",
    "sp1.set_xlabel('Epoch')\n",
    "sp1.set_ylabel('Loss')\n",
    "\n",
    "sp2.set_xlabel('Epoch')\n",
    "sp2.set_ylabel('Recall')\n",
    "\n",
    "sp2.set_xlabel('Epoch')\n",
    "sp2.set_ylabel('Precision')"
   ]
  },
  {
   "cell_type": "code",
   "execution_count": null,
   "id": "6e88f94c",
   "metadata": {},
   "outputs": [],
   "source": [
    "model.save('CNN_v1')"
   ]
  },
  {
   "cell_type": "code",
   "execution_count": null,
   "id": "d2bf8ad8",
   "metadata": {},
   "outputs": [],
   "source": []
  }
 ],
 "metadata": {
  "kernelspec": {
   "display_name": "Python 3 (ipykernel)",
   "language": "python",
   "name": "python3"
  },
  "language_info": {
   "codemirror_mode": {
    "name": "ipython",
    "version": 3
   },
   "file_extension": ".py",
   "mimetype": "text/x-python",
   "name": "python",
   "nbconvert_exporter": "python",
   "pygments_lexer": "ipython3",
   "version": "3.7.1"
  }
 },
 "nbformat": 4,
 "nbformat_minor": 5
}
