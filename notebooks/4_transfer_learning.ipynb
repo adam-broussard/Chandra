{
 "cells": [
  {
   "cell_type": "code",
   "execution_count": 12,
   "metadata": {},
   "outputs": [],
   "source": [
    "import json\n",
    "import os\n",
    "import pandas as pd\n",
    "from tqdm import tqdm\n",
    "from galaxyteam.dataset import resize_image\n",
    "from matplotlib import image\n",
    "from PIL import UnidentifiedImageError\n",
    "from sklearn.model_selection import train_test_split\n",
    "# pylint: disable=[E0611,E0401]\n",
    "from tensorflow.keras.models import Sequential, model_from_yaml\n",
    "from tensorflow.keras.layers import (Dense, Dropout, Flatten, Conv2D, Lambda,\n",
    "                                     MaxPooling2D, Input)\n",
    "from tensorflow.keras.losses import BinaryCrossentropy\n",
    "from tensorflow.keras import callbacks\n",
    "from tensorflow.keras.optimizers import Adam\n",
    "from tensorflow.keras.applications.resnet50 import ResNet50\n",
    "from tensorflow.keras.preprocessing import image\n",
    "from tensorflow.keras.models import Model\n",
    "from tensorflow.keras.layers import Dense, GlobalAveragePooling2D\n",
    "import tensorflow as tf\n",
    "import tensorflow.keras as keras"
   ]
  },
  {
   "cell_type": "code",
   "execution_count": 13,
   "metadata": {},
   "outputs": [],
   "source": [
    "def _parse(file_name, is_pneumonia):\n",
    "    '''\n",
    "    Function that returns a tuple of normalized image array and pneumonia\n",
    "    classification\n",
    "    Args:\n",
    "        file_name (string): Path to image\n",
    "        is_pneumonia (bool): Boolean indicating whether the x-ray contains\n",
    "            pneumonia\n",
    "    returns:\n",
    "        image_normalized (tf.Tensor): Normalized image tensor\n",
    "        is_pneumonia (float): 1 or 0 indicating whether the x-ray contains\n",
    "            pneumonia\n",
    "    '''\n",
    "    # Read an image from a file\n",
    "    image_string = tf.io.read_file(file_name)\n",
    "    # Decode it into a dense vector\n",
    "    image_decoded = tf.image.decode_jpeg(image_string, channels=3)\n",
    "    # # Resize it to fixed shape\n",
    "    # image_resized = resize_image(image_decoded, (224, 224, 3))\n",
    "    return image_decoded, float(is_pneumonia)\n",
    "\n",
    "\n",
    "def create_dataset(filenames, is_pneumonia, shuffle=False, batch_size=32):\n",
    "    '''\n",
    "    Create a tensorflow dataset object and return it.\n",
    "    Args:\n",
    "        filenames (iter): List of image paths\n",
    "        is_pneumonia (iter): List of boolean values indicating if the x-ray\n",
    "            contains pneumonia\n",
    "        shuffle (bool): Whether or not to shuffle the dataset after generating\n",
    "            it (note this is less effective than shuffling the filenames and\n",
    "            ratings beforehand instead because the whole dataset cannot be\n",
    "            stored in memory simultaneously.)\n",
    "        batch_size (int): The number of images per batch\n",
    "    Returns:\n",
    "        dataset (tf.data.Dataset): A dataset containing the image and pneumonia\n",
    "            data\n",
    "    '''\n",
    "\n",
    "    # Adapt preprocessing and prefetching dynamically to reduce GPU and CPU\n",
    "    # idle time\n",
    "    autotune = tf.data.experimental.AUTOTUNE\n",
    "\n",
    "    # Create a first dataset of file paths and labels\n",
    "    dataset = tf.data.Dataset.from_tensor_slices((filenames, is_pneumonia))\n",
    "    # Parse and preprocess observations in parallel\n",
    "    dataset = dataset.map(_parse, num_parallel_calls=autotune)\n",
    "\n",
    "    if shuffle:\n",
    "        dataset = dataset.shuffle(buffer_size=2048)\n",
    "\n",
    "    # Batch the data for multiple steps\n",
    "    dataset = dataset.batch(batch_size)\n",
    "    # Fetch batches in the background while the model is training.\n",
    "    dataset = dataset.prefetch(buffer_size=autotune)\n",
    "\n",
    "    return dataset\n"
   ]
  },
  {
   "cell_type": "code",
   "execution_count": 14,
   "metadata": {},
   "outputs": [],
   "source": [
    "IMG_SIZE = 224\n",
    "base_model = tf.keras.applications.ResNet152V2(\n",
    "    weights='imagenet',\n",
    "    input_shape=(IMG_SIZE, IMG_SIZE, 3),\n",
    "    include_top=False)\n",
    "\n",
    "base_model.trainable = False"
   ]
  },
  {
   "cell_type": "code",
   "execution_count": 15,
   "metadata": {},
   "outputs": [],
   "source": [
    "def build_TL():\n",
    "    \n",
    "    #Input shape = [width, height, color channels]\n",
    "    inputs = Input(shape=(IMG_SIZE, IMG_SIZE, 3))\n",
    "    \n",
    "    x = base_model(inputs)\n",
    "\n",
    "    # Head\n",
    "    x = GlobalAveragePooling2D()(x)\n",
    "    x = Dense(128, activation='relu')(x)\n",
    "    x = Dropout(0.1)(x)\n",
    "    \n",
    "    #Final Layer (Output)\n",
    "    output = Dense(1, activation='sigmoid')(x)\n",
    "    \n",
    "    model = keras.Model(inputs=[inputs], outputs=output)\n",
    "    \n",
    "    return model"
   ]
  },
  {
   "cell_type": "code",
   "execution_count": 16,
   "metadata": {},
   "outputs": [
    {
     "name": "stdout",
     "output_type": "stream",
     "text": [
      "Model: \"model\"\n",
      "_________________________________________________________________\n",
      " Layer (type)                Output Shape              Param #   \n",
      "=================================================================\n",
      " input_1 (InputLayer)        [(None, 224, 224, 3)]     0         \n",
      "                                                                 \n",
      " resnet152v2 (Functional)    (None, 7, 7, 2048)        58331648  \n",
      "                                                                 \n",
      " global_average_pooling2d (G  (None, 2048)             0         \n",
      " lobalAveragePooling2D)                                          \n",
      "                                                                 \n",
      " dense (Dense)               (None, 128)               262272    \n",
      "                                                                 \n",
      " dropout (Dropout)           (None, 128)               0         \n",
      "                                                                 \n",
      " dense_1 (Dense)             (None, 1)                 129       \n",
      "                                                                 \n",
      "=================================================================\n",
      "Total params: 58,594,049\n",
      "Trainable params: 262,401\n",
      "Non-trainable params: 58,331,648\n",
      "_________________________________________________________________\n"
     ]
    }
   ],
   "source": [
    "keras.backend.clear_session()\n",
    "\n",
    "model_pretrained = build_TL()\n",
    "model_pretrained.compile(loss='binary_crossentropy'\n",
    "              , optimizer = keras.optimizers.Adam(learning_rate=5e-5), metrics='binary_accuracy')\n",
    "\n",
    "model_pretrained.summary()"
   ]
  },
  {
   "cell_type": "code",
   "execution_count": 17,
   "metadata": {},
   "outputs": [],
   "source": [
    "#Setting callbacks\n",
    "\n",
    "early_stopping = callbacks.EarlyStopping(\n",
    "    monitor='val_loss',\n",
    "    patience=5,\n",
    "    min_delta=1e-7,\n",
    "    restore_best_weights=True,\n",
    ")\n",
    "\n",
    "plateau = callbacks.ReduceLROnPlateau(\n",
    "    monitor='val_loss',\n",
    "    factor = 0.2,                                     \n",
    "    patience = 2,                                   \n",
    "    min_delt = 1e-7,                                \n",
    "    cooldown = 0,                               \n",
    "    verbose = 1\n",
    ") "
   ]
  },
  {
   "cell_type": "code",
   "execution_count": 18,
   "metadata": {},
   "outputs": [],
   "source": [
    "def train_TL(epochs=15, batch_size=32, val_frac=0.2,\n",
    "              train_info_file_path='./data/preprocessed/train_metadata.csv'):\n",
    "\n",
    "    full_train = pd.read_csv(train_info_file_path)\n",
    "\n",
    "    train_data, val_data = train_test_split(full_train, test_size=0.2,\n",
    "                                            shuffle=True,\n",
    "                                            stratify=full_train.is_pneumonia,\n",
    "                                            random_state=9473)\n",
    "\n",
    "    # Create Tensorflow datasets\n",
    "    train_dataset = create_dataset(train_data.resized_file_path,\n",
    "                                   train_data.is_pneumonia,\n",
    "                                   batch_size=batch_size)\n",
    "    val_dataset = create_dataset(val_data.resized_file_path,\n",
    "                                 val_data.is_pneumonia,\n",
    "                                 batch_size=batch_size)\n",
    "\n",
    "\n",
    "\n",
    "    history = model_pretrained.fit(train_dataset,callbacks=[early_stopping, plateau], epochs=epochs, verbose=1,\n",
    "                        validation_data=val_dataset)\n",
    "\n",
    "    return history, model_pretrained"
   ]
  },
  {
   "cell_type": "code",
   "execution_count": 19,
   "metadata": {},
   "outputs": [
    {
     "name": "stdout",
     "output_type": "stream",
     "text": [
      "Epoch 1/15\n",
      "118/118 [==============================] - 594s 5s/step - loss: 37.2017 - binary_accuracy: 0.6190 - val_loss: 16.9931 - val_binary_accuracy: 0.7279 - lr: 5.0000e-05\n",
      "Epoch 2/15\n",
      "118/118 [==============================] - 579s 5s/step - loss: 19.7789 - binary_accuracy: 0.6889 - val_loss: 12.9588 - val_binary_accuracy: 0.7524 - lr: 5.0000e-05\n",
      "Epoch 3/15\n",
      "118/118 [==============================] - 573s 5s/step - loss: 8.8157 - binary_accuracy: 0.7588 - val_loss: 2.8936 - val_binary_accuracy: 0.8495 - lr: 5.0000e-05\n",
      "Epoch 4/15\n",
      "118/118 [==============================] - 606s 5s/step - loss: 3.6598 - binary_accuracy: 0.8154 - val_loss: 1.3074 - val_binary_accuracy: 0.8815 - lr: 5.0000e-05\n",
      "Epoch 5/15\n",
      "118/118 [==============================] - 600s 5s/step - loss: 1.5513 - binary_accuracy: 0.8533 - val_loss: 0.5510 - val_binary_accuracy: 0.9082 - lr: 5.0000e-05\n",
      "Epoch 6/15\n",
      "118/118 [==============================] - 589s 5s/step - loss: 0.6061 - binary_accuracy: 0.8746 - val_loss: 0.3567 - val_binary_accuracy: 0.9018 - lr: 5.0000e-05\n",
      "Epoch 7/15\n",
      "118/118 [==============================] - 578s 5s/step - loss: 0.3559 - binary_accuracy: 0.8866 - val_loss: 0.2757 - val_binary_accuracy: 0.9018 - lr: 5.0000e-05\n",
      "Epoch 8/15\n",
      "118/118 [==============================] - 582s 5s/step - loss: 0.2628 - binary_accuracy: 0.8978 - val_loss: 0.2559 - val_binary_accuracy: 0.9007 - lr: 5.0000e-05\n",
      "Epoch 9/15\n",
      "118/118 [==============================] - 582s 5s/step - loss: 0.2761 - binary_accuracy: 0.8877 - val_loss: 0.2356 - val_binary_accuracy: 0.8911 - lr: 5.0000e-05\n",
      "Epoch 10/15\n",
      "118/118 [==============================] - 558s 5s/step - loss: 0.2680 - binary_accuracy: 0.8885 - val_loss: 0.2108 - val_binary_accuracy: 0.9104 - lr: 5.0000e-05\n",
      "Epoch 11/15\n",
      "118/118 [==============================] - 565s 5s/step - loss: 0.2604 - binary_accuracy: 0.8927 - val_loss: 0.2439 - val_binary_accuracy: 0.8997 - lr: 5.0000e-05\n",
      "Epoch 12/15\n",
      "118/118 [==============================] - ETA: 0s - loss: 0.2571 - binary_accuracy: 0.8959\n",
      "Epoch 12: ReduceLROnPlateau reducing learning rate to 9.999999747378752e-06.\n",
      "118/118 [==============================] - 598s 5s/step - loss: 0.2571 - binary_accuracy: 0.8959 - val_loss: 0.3345 - val_binary_accuracy: 0.8666 - lr: 5.0000e-05\n",
      "Epoch 13/15\n",
      "118/118 [==============================] - 589s 5s/step - loss: 0.2335 - binary_accuracy: 0.9064 - val_loss: 0.2024 - val_binary_accuracy: 0.9136 - lr: 1.0000e-05\n",
      "Epoch 14/15\n",
      "118/118 [==============================] - 584s 5s/step - loss: 0.2179 - binary_accuracy: 0.9165 - val_loss: 0.2043 - val_binary_accuracy: 0.9104 - lr: 1.0000e-05\n",
      "Epoch 15/15\n",
      "118/118 [==============================] - ETA: 0s - loss: 0.2240 - binary_accuracy: 0.9128\n",
      "Epoch 15: ReduceLROnPlateau reducing learning rate to 1.9999999494757505e-06.\n",
      "118/118 [==============================] - 577s 5s/step - loss: 0.2240 - binary_accuracy: 0.9128 - val_loss: 0.2082 - val_binary_accuracy: 0.9157 - lr: 1.0000e-05\n"
     ]
    }
   ],
   "source": [
    "history, model = train_TL(batch_size=32)"
   ]
  },
  {
   "cell_type": "code",
   "execution_count": 23,
   "metadata": {},
   "outputs": [
    {
     "data": {
      "text/plain": [
       "<matplotlib.legend.Legend at 0x18c2864f250>"
      ]
     },
     "execution_count": 23,
     "metadata": {},
     "output_type": "execute_result"
    },
    {
     "data": {
      "image/png": "[encoded data removed]",
      "text/plain": [
       "<Figure size 1728x576 with 2 Axes>"
      ]
     },
     "metadata": {
      "needs_background": "light"
     },
     "output_type": "display_data"
    }
   ],
   "source": [
    "fig = plt.figure(figsize=(24, 8))\n",
    "sp1 = fig.add_subplot(131)\n",
    "sp2 = fig.add_subplot(132)\n",
    "\n",
    "num_epochs = range(0, 15)\n",
    "\n",
    "sp1.plot(num_epochs, history.history['loss'], linewidth=2, label='Train')\n",
    "sp1.plot(num_epochs, history.history['val_loss'], linewidth=2, label='Val')\n",
    "\n",
    "sp2.plot(num_epochs, history.history['binary_accuracy'], linewidth=2, label='Train')\n",
    "sp2.plot(num_epochs, history.history['val_binary_accuracy'], linewidth=2, label='Val')\n",
    "\n",
    "sp1.set_xlabel('Epoch')\n",
    "sp1.set_ylabel('Loss')\n",
    "sp1.legend()\n",
    "\n",
    "sp2.set_xlabel('Epoch')\n",
    "sp2.set_ylabel('binary_accuracy')\n",
    "sp2.legend()\n"
   ]
  },
  {
   "cell_type": "code",
   "execution_count": 51,
   "metadata": {},
   "outputs": [
    {
     "name": "stderr",
     "output_type": "stream",
     "text": [
      "WARNING:absl:Found untraced functions such as _jit_compiled_convolution_op, _jit_compiled_convolution_op, _jit_compiled_convolution_op, _jit_compiled_convolution_op, _jit_compiled_convolution_op while saving (showing 5 of 155). These functions will not be directly callable after loading.\n"
     ]
    },
    {
     "name": "stdout",
     "output_type": "stream",
     "text": [
      "INFO:tensorflow:Assets written to: TL_v1\\assets\n"
     ]
    },
    {
     "name": "stderr",
     "output_type": "stream",
     "text": [
      "INFO:tensorflow:Assets written to: TL_v1\\assets\n"
     ]
    }
   ],
   "source": [
    "model.save('TL_v1')"
   ]
  },
  {
   "cell_type": "code",
   "execution_count": null,
   "metadata": {},
   "outputs": [],
   "source": []
  }
 ],
 "metadata": {
  "interpreter": {
   "hash": "1cfd1f37832ca50460afb8cee0e387f253b30e3ddabfcf63ef10b19ca2ef7e6c"
  },
  "kernelspec": {
   "display_name": "Python 3.9.12 ('chandra')",
   "language": "python",
   "name": "python3"
  },
  "language_info": {
   "codemirror_mode": {
    "name": "ipython",
    "version": 3
   },
   "file_extension": ".py",
   "mimetype": "text/x-python",
   "name": "python",
   "nbconvert_exporter": "python",
   "pygments_lexer": "ipython3",
   "version": "3.9.12"
  },
  "orig_nbformat": 4
 },
 "nbformat": 4,
 "nbformat_minor": 2
}
