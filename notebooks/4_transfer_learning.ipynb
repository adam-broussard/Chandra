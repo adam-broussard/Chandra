{
 "cells": [
  {
   "cell_type": "code",
   "execution_count": 1,
   "metadata": {},
   "outputs": [],
   "source": [
    "import pandas as pd\n",
    "from galaxyteam.models.cnn import create_dataset\n",
    "from sklearn.model_selection import train_test_split\n",
    "from sklearn.metrics import f1_score\n",
    "# pylint: disable=[E0611,E0401]\n",
    "from tensorflow.keras.layers import (Dense, Dropout, Input)\n",
    "\n",
    "from tensorflow.keras import callbacks\n",
    "from tensorflow.keras.applications.resnet_v2 import ResNet152V2\n",
    "from tensorflow.keras.layers import Dense, GlobalAveragePooling2D\n",
    "import tensorflow.keras as keras"
   ]
  },
  {
   "cell_type": "code",
   "execution_count": 2,
   "metadata": {},
   "outputs": [],
   "source": [
    "IMG_SIZE = 224\n",
    "base_model = ResNet152V2(\n",
    "    weights='imagenet',\n",
    "    input_shape=(IMG_SIZE, IMG_SIZE, 3),\n",
    "    include_top=False)\n",
    "\n",
    "base_model.trainable = False"
   ]
  },
  {
   "cell_type": "code",
   "execution_count": 21,
   "metadata": {},
   "outputs": [],
   "source": [
    "### Define F1 measures: F1 = 2 * (precision * recall) / (precision + recall)\n",
    "\n",
    "def eager_binary_fbeta(ytrue, ypred, beta=1.0, threshold=0.5):\n",
    "  ypred = np.array(ypred >= threshold, dtype=np.float32)\n",
    "\n",
    "  return f1_score(ytrue, ypred, beta)"
   ]
  },
  {
   "cell_type": "code",
   "execution_count": 3,
   "metadata": {},
   "outputs": [],
   "source": [
    "def build_TL():\n",
    "    \n",
    "    #Input shape = [width, height, color channels]\n",
    "    inputs = Input(shape=(IMG_SIZE, IMG_SIZE, 3))\n",
    "    \n",
    "    x = base_model(inputs)\n",
    "\n",
    "    # Head\n",
    "    x = GlobalAveragePooling2D()(x)\n",
    "    x = Dense(128, activation='relu')(x)\n",
    "    x = Dropout(0.1)(x)\n",
    "    \n",
    "    #Final Layer (Output)\n",
    "    output = Dense(1, activation='sigmoid')(x)\n",
    "    \n",
    "    model = keras.Model(inputs=[inputs], outputs=output)\n",
    "    \n",
    "    return model"
   ]
  },
  {
   "cell_type": "code",
   "execution_count": 25,
   "metadata": {},
   "outputs": [
    {
     "name": "stdout",
     "output_type": "stream",
     "text": [
      "Model: \"model\"\n",
      "_________________________________________________________________\n",
      " Layer (type)                Output Shape              Param #   \n",
      "=================================================================\n",
      " input_1 (InputLayer)        [(None, 224, 224, 3)]     0         \n",
      "                                                                 \n",
      " resnet152v2 (Functional)    (None, 7, 7, 2048)        58331648  \n",
      "                                                                 \n",
      " global_average_pooling2d (G  (None, 2048)             0         \n",
      " lobalAveragePooling2D)                                          \n",
      "                                                                 \n",
      " dense (Dense)               (None, 128)               262272    \n",
      "                                                                 \n",
      " dropout (Dropout)           (None, 128)               0         \n",
      "                                                                 \n",
      " dense_1 (Dense)             (None, 1)                 129       \n",
      "                                                                 \n",
      "=================================================================\n",
      "Total params: 58,594,049\n",
      "Trainable params: 262,401\n",
      "Non-trainable params: 58,331,648\n",
      "_________________________________________________________________\n"
     ]
    }
   ],
   "source": [
    "keras.backend.clear_session()\n",
    "\n",
    "model_pretrained = build_TL()\n",
    "model_pretrained.compile(loss='binary_crossentropy',\n",
    "                        optimizer = keras.optimizers.Adam(learning_rate=5e-5),\n",
    "                        metrics=[keras.metrics.Precision(),\n",
    "                        keras.metrics.Recall()])\n",
    "\n",
    "model_pretrained.summary()"
   ]
  },
  {
   "cell_type": "code",
   "execution_count": 26,
   "metadata": {},
   "outputs": [],
   "source": [
    "#Setting callbacks\n",
    "\n",
    "early_stopping = callbacks.EarlyStopping(\n",
    "    monitor='val_loss',\n",
    "    patience=5,\n",
    "    min_delta=1e-7,\n",
    "    restore_best_weights=True,\n",
    ")\n",
    "\n",
    "plateau = callbacks.ReduceLROnPlateau(\n",
    "    monitor='val_loss',\n",
    "    factor = 0.2,                                     \n",
    "    patience = 2,                                   \n",
    "    min_delt = 1e-7,                                \n",
    "    cooldown = 0,                               \n",
    "    verbose = 1\n",
    ") "
   ]
  },
  {
   "cell_type": "code",
   "execution_count": 31,
   "metadata": {},
   "outputs": [],
   "source": [
    "def train_TL(epochs=1, batch_size=128, val_frac=0.2,\n",
    "              train_info_file_path='./data/preprocessed/train_metadata.csv'):\n",
    "\n",
    "    full_train = pd.read_csv(train_info_file_path)\n",
    "\n",
    "    train_data, val_data = train_test_split(full_train, test_size=0.2,\n",
    "                                            shuffle=True,\n",
    "                                            stratify=full_train.is_pneumonia,\n",
    "                                            random_state=9473)\n",
    "\n",
    "    # Create Tensorflow datasets\n",
    "    train_dataset = create_dataset(train_data.resized_file_path,\n",
    "                                   train_data.is_pneumonia,\n",
    "                                   batch_size=batch_size)\n",
    "    val_dataset = create_dataset(val_data.resized_file_path,\n",
    "                                 val_data.is_pneumonia,\n",
    "                                 batch_size=batch_size)\n",
    "\n",
    "\n",
    "\n",
    "    history = model_pretrained.fit(train_dataset,callbacks=[early_stopping, plateau], epochs=epochs, verbose=1,\n",
    "                        validation_data=val_dataset)\n",
    "\n",
    "    return history, model_pretrained"
   ]
  },
  {
   "cell_type": "code",
   "execution_count": 29,
   "metadata": {},
   "outputs": [
    {
     "name": "stdout",
     "output_type": "stream",
     "text": [
      "Epoch 1/10\n",
      "30/30 [==============================] - 517s 17s/step - loss: 58.4792 - precision: 0.7293 - recall: 0.7838 - val_loss: 38.0558 - val_precision: 0.7247 - val_recall: 1.0000 - lr: 5.0000e-05\n",
      "Epoch 2/10\n",
      " 2/30 [=>............................] - ETA: 8:59 - loss: 49.7767 - precision: 0.7261 - recall: 0.9076"
     ]
    },
    {
     "ename": "KeyboardInterrupt",
     "evalue": "",
     "output_type": "error",
     "traceback": [
      "\u001b[1;31m---------------------------------------------------------------------------\u001b[0m",
      "\u001b[1;31mKeyboardInterrupt\u001b[0m                         Traceback (most recent call last)",
      "\u001b[1;32mc:\\Users\\karth\\Desktop\\Erdos\\GalaxyTeam\\notebooks\\4_transfer_learning.ipynb Cell 8'\u001b[0m in \u001b[0;36m<cell line: 1>\u001b[1;34m()\u001b[0m\n\u001b[1;32m----> <a href='vscode-notebook-cell:/c%3A/Users/karth/Desktop/Erdos/GalaxyTeam/notebooks/4_transfer_learning.ipynb#ch0000008?line=0'>1</a>\u001b[0m history, model \u001b[39m=\u001b[39m train_TL(batch_size\u001b[39m=\u001b[39;49m\u001b[39m128\u001b[39;49m)\n",
      "\u001b[1;32mc:\\Users\\karth\\Desktop\\Erdos\\GalaxyTeam\\notebooks\\4_transfer_learning.ipynb Cell 7'\u001b[0m in \u001b[0;36mtrain_TL\u001b[1;34m(epochs, batch_size, val_frac, train_info_file_path)\u001b[0m\n\u001b[0;32m     <a href='vscode-notebook-cell:/c%3A/Users/karth/Desktop/Erdos/GalaxyTeam/notebooks/4_transfer_learning.ipynb#ch0000007?line=11'>12</a>\u001b[0m train_dataset \u001b[39m=\u001b[39m create_dataset(train_data\u001b[39m.\u001b[39mresized_file_path,\n\u001b[0;32m     <a href='vscode-notebook-cell:/c%3A/Users/karth/Desktop/Erdos/GalaxyTeam/notebooks/4_transfer_learning.ipynb#ch0000007?line=12'>13</a>\u001b[0m                                train_data\u001b[39m.\u001b[39mis_pneumonia,\n\u001b[0;32m     <a href='vscode-notebook-cell:/c%3A/Users/karth/Desktop/Erdos/GalaxyTeam/notebooks/4_transfer_learning.ipynb#ch0000007?line=13'>14</a>\u001b[0m                                batch_size\u001b[39m=\u001b[39mbatch_size)\n\u001b[0;32m     <a href='vscode-notebook-cell:/c%3A/Users/karth/Desktop/Erdos/GalaxyTeam/notebooks/4_transfer_learning.ipynb#ch0000007?line=14'>15</a>\u001b[0m val_dataset \u001b[39m=\u001b[39m create_dataset(val_data\u001b[39m.\u001b[39mresized_file_path,\n\u001b[0;32m     <a href='vscode-notebook-cell:/c%3A/Users/karth/Desktop/Erdos/GalaxyTeam/notebooks/4_transfer_learning.ipynb#ch0000007?line=15'>16</a>\u001b[0m                              val_data\u001b[39m.\u001b[39mis_pneumonia,\n\u001b[0;32m     <a href='vscode-notebook-cell:/c%3A/Users/karth/Desktop/Erdos/GalaxyTeam/notebooks/4_transfer_learning.ipynb#ch0000007?line=16'>17</a>\u001b[0m                              batch_size\u001b[39m=\u001b[39mbatch_size)\n\u001b[1;32m---> <a href='vscode-notebook-cell:/c%3A/Users/karth/Desktop/Erdos/GalaxyTeam/notebooks/4_transfer_learning.ipynb#ch0000007?line=20'>21</a>\u001b[0m history \u001b[39m=\u001b[39m model_pretrained\u001b[39m.\u001b[39;49mfit(train_dataset,callbacks\u001b[39m=\u001b[39;49m[early_stopping, plateau], epochs\u001b[39m=\u001b[39;49mepochs, verbose\u001b[39m=\u001b[39;49m\u001b[39m1\u001b[39;49m,\n\u001b[0;32m     <a href='vscode-notebook-cell:/c%3A/Users/karth/Desktop/Erdos/GalaxyTeam/notebooks/4_transfer_learning.ipynb#ch0000007?line=21'>22</a>\u001b[0m                     validation_data\u001b[39m=\u001b[39;49mval_dataset)\n\u001b[0;32m     <a href='vscode-notebook-cell:/c%3A/Users/karth/Desktop/Erdos/GalaxyTeam/notebooks/4_transfer_learning.ipynb#ch0000007?line=23'>24</a>\u001b[0m \u001b[39mreturn\u001b[39;00m history, model_pretrained\n",
      "File \u001b[1;32mc:\\Users\\karth\\anaconda3\\envs\\chandra\\lib\\site-packages\\keras-2.9.0-py3.9.egg\\keras\\utils\\traceback_utils.py:64\u001b[0m, in \u001b[0;36mfilter_traceback.<locals>.error_handler\u001b[1;34m(*args, **kwargs)\u001b[0m\n\u001b[0;32m     <a href='file:///c%3A/Users/karth/anaconda3/envs/chandra/lib/site-packages/keras-2.9.0-py3.9.egg/keras/utils/traceback_utils.py?line=61'>62</a>\u001b[0m filtered_tb \u001b[39m=\u001b[39m \u001b[39mNone\u001b[39;00m\n\u001b[0;32m     <a href='file:///c%3A/Users/karth/anaconda3/envs/chandra/lib/site-packages/keras-2.9.0-py3.9.egg/keras/utils/traceback_utils.py?line=62'>63</a>\u001b[0m \u001b[39mtry\u001b[39;00m:\n\u001b[1;32m---> <a href='file:///c%3A/Users/karth/anaconda3/envs/chandra/lib/site-packages/keras-2.9.0-py3.9.egg/keras/utils/traceback_utils.py?line=63'>64</a>\u001b[0m   \u001b[39mreturn\u001b[39;00m fn(\u001b[39m*\u001b[39margs, \u001b[39m*\u001b[39m\u001b[39m*\u001b[39mkwargs)\n\u001b[0;32m     <a href='file:///c%3A/Users/karth/anaconda3/envs/chandra/lib/site-packages/keras-2.9.0-py3.9.egg/keras/utils/traceback_utils.py?line=64'>65</a>\u001b[0m \u001b[39mexcept\u001b[39;00m \u001b[39mException\u001b[39;00m \u001b[39mas\u001b[39;00m e:  \u001b[39m# pylint: disable=broad-except\u001b[39;00m\n\u001b[0;32m     <a href='file:///c%3A/Users/karth/anaconda3/envs/chandra/lib/site-packages/keras-2.9.0-py3.9.egg/keras/utils/traceback_utils.py?line=65'>66</a>\u001b[0m   filtered_tb \u001b[39m=\u001b[39m _process_traceback_frames(e\u001b[39m.\u001b[39m__traceback__)\n",
      "File \u001b[1;32mc:\\Users\\karth\\anaconda3\\envs\\chandra\\lib\\site-packages\\keras-2.9.0-py3.9.egg\\keras\\engine\\training.py:1409\u001b[0m, in \u001b[0;36mModel.fit\u001b[1;34m(self, x, y, batch_size, epochs, verbose, callbacks, validation_split, validation_data, shuffle, class_weight, sample_weight, initial_epoch, steps_per_epoch, validation_steps, validation_batch_size, validation_freq, max_queue_size, workers, use_multiprocessing)\u001b[0m\n\u001b[0;32m   <a href='file:///c%3A/Users/karth/anaconda3/envs/chandra/lib/site-packages/keras-2.9.0-py3.9.egg/keras/engine/training.py?line=1401'>1402</a>\u001b[0m \u001b[39mwith\u001b[39;00m tf\u001b[39m.\u001b[39mprofiler\u001b[39m.\u001b[39mexperimental\u001b[39m.\u001b[39mTrace(\n\u001b[0;32m   <a href='file:///c%3A/Users/karth/anaconda3/envs/chandra/lib/site-packages/keras-2.9.0-py3.9.egg/keras/engine/training.py?line=1402'>1403</a>\u001b[0m     \u001b[39m'\u001b[39m\u001b[39mtrain\u001b[39m\u001b[39m'\u001b[39m,\n\u001b[0;32m   <a href='file:///c%3A/Users/karth/anaconda3/envs/chandra/lib/site-packages/keras-2.9.0-py3.9.egg/keras/engine/training.py?line=1403'>1404</a>\u001b[0m     epoch_num\u001b[39m=\u001b[39mepoch,\n\u001b[0;32m   <a href='file:///c%3A/Users/karth/anaconda3/envs/chandra/lib/site-packages/keras-2.9.0-py3.9.egg/keras/engine/training.py?line=1404'>1405</a>\u001b[0m     step_num\u001b[39m=\u001b[39mstep,\n\u001b[0;32m   <a href='file:///c%3A/Users/karth/anaconda3/envs/chandra/lib/site-packages/keras-2.9.0-py3.9.egg/keras/engine/training.py?line=1405'>1406</a>\u001b[0m     batch_size\u001b[39m=\u001b[39mbatch_size,\n\u001b[0;32m   <a href='file:///c%3A/Users/karth/anaconda3/envs/chandra/lib/site-packages/keras-2.9.0-py3.9.egg/keras/engine/training.py?line=1406'>1407</a>\u001b[0m     _r\u001b[39m=\u001b[39m\u001b[39m1\u001b[39m):\n\u001b[0;32m   <a href='file:///c%3A/Users/karth/anaconda3/envs/chandra/lib/site-packages/keras-2.9.0-py3.9.egg/keras/engine/training.py?line=1407'>1408</a>\u001b[0m   callbacks\u001b[39m.\u001b[39mon_train_batch_begin(step)\n\u001b[1;32m-> <a href='file:///c%3A/Users/karth/anaconda3/envs/chandra/lib/site-packages/keras-2.9.0-py3.9.egg/keras/engine/training.py?line=1408'>1409</a>\u001b[0m   tmp_logs \u001b[39m=\u001b[39m \u001b[39mself\u001b[39;49m\u001b[39m.\u001b[39;49mtrain_function(iterator)\n\u001b[0;32m   <a href='file:///c%3A/Users/karth/anaconda3/envs/chandra/lib/site-packages/keras-2.9.0-py3.9.egg/keras/engine/training.py?line=1409'>1410</a>\u001b[0m   \u001b[39mif\u001b[39;00m data_handler\u001b[39m.\u001b[39mshould_sync:\n\u001b[0;32m   <a href='file:///c%3A/Users/karth/anaconda3/envs/chandra/lib/site-packages/keras-2.9.0-py3.9.egg/keras/engine/training.py?line=1410'>1411</a>\u001b[0m     context\u001b[39m.\u001b[39masync_wait()\n",
      "File \u001b[1;32mc:\\Users\\karth\\anaconda3\\envs\\chandra\\lib\\site-packages\\tensorflow-2.9.1-py3.9-win-amd64.egg\\tensorflow\\python\\util\\traceback_utils.py:150\u001b[0m, in \u001b[0;36mfilter_traceback.<locals>.error_handler\u001b[1;34m(*args, **kwargs)\u001b[0m\n\u001b[0;32m    <a href='file:///c%3A/Users/karth/anaconda3/envs/chandra/lib/site-packages/tensorflow-2.9.1-py3.9-win-amd64.egg/tensorflow/python/util/traceback_utils.py?line=147'>148</a>\u001b[0m filtered_tb \u001b[39m=\u001b[39m \u001b[39mNone\u001b[39;00m\n\u001b[0;32m    <a href='file:///c%3A/Users/karth/anaconda3/envs/chandra/lib/site-packages/tensorflow-2.9.1-py3.9-win-amd64.egg/tensorflow/python/util/traceback_utils.py?line=148'>149</a>\u001b[0m \u001b[39mtry\u001b[39;00m:\n\u001b[1;32m--> <a href='file:///c%3A/Users/karth/anaconda3/envs/chandra/lib/site-packages/tensorflow-2.9.1-py3.9-win-amd64.egg/tensorflow/python/util/traceback_utils.py?line=149'>150</a>\u001b[0m   \u001b[39mreturn\u001b[39;00m fn(\u001b[39m*\u001b[39margs, \u001b[39m*\u001b[39m\u001b[39m*\u001b[39mkwargs)\n\u001b[0;32m    <a href='file:///c%3A/Users/karth/anaconda3/envs/chandra/lib/site-packages/tensorflow-2.9.1-py3.9-win-amd64.egg/tensorflow/python/util/traceback_utils.py?line=150'>151</a>\u001b[0m \u001b[39mexcept\u001b[39;00m \u001b[39mException\u001b[39;00m \u001b[39mas\u001b[39;00m e:\n\u001b[0;32m    <a href='file:///c%3A/Users/karth/anaconda3/envs/chandra/lib/site-packages/tensorflow-2.9.1-py3.9-win-amd64.egg/tensorflow/python/util/traceback_utils.py?line=151'>152</a>\u001b[0m   filtered_tb \u001b[39m=\u001b[39m _process_traceback_frames(e\u001b[39m.\u001b[39m__traceback__)\n",
      "File \u001b[1;32mc:\\Users\\karth\\anaconda3\\envs\\chandra\\lib\\site-packages\\tensorflow-2.9.1-py3.9-win-amd64.egg\\tensorflow\\python\\eager\\def_function.py:915\u001b[0m, in \u001b[0;36mFunction.__call__\u001b[1;34m(self, *args, **kwds)\u001b[0m\n\u001b[0;32m    <a href='file:///c%3A/Users/karth/anaconda3/envs/chandra/lib/site-packages/tensorflow-2.9.1-py3.9-win-amd64.egg/tensorflow/python/eager/def_function.py?line=911'>912</a>\u001b[0m compiler \u001b[39m=\u001b[39m \u001b[39m\"\u001b[39m\u001b[39mxla\u001b[39m\u001b[39m\"\u001b[39m \u001b[39mif\u001b[39;00m \u001b[39mself\u001b[39m\u001b[39m.\u001b[39m_jit_compile \u001b[39melse\u001b[39;00m \u001b[39m\"\u001b[39m\u001b[39mnonXla\u001b[39m\u001b[39m\"\u001b[39m\n\u001b[0;32m    <a href='file:///c%3A/Users/karth/anaconda3/envs/chandra/lib/site-packages/tensorflow-2.9.1-py3.9-win-amd64.egg/tensorflow/python/eager/def_function.py?line=913'>914</a>\u001b[0m \u001b[39mwith\u001b[39;00m OptionalXlaContext(\u001b[39mself\u001b[39m\u001b[39m.\u001b[39m_jit_compile):\n\u001b[1;32m--> <a href='file:///c%3A/Users/karth/anaconda3/envs/chandra/lib/site-packages/tensorflow-2.9.1-py3.9-win-amd64.egg/tensorflow/python/eager/def_function.py?line=914'>915</a>\u001b[0m   result \u001b[39m=\u001b[39m \u001b[39mself\u001b[39m\u001b[39m.\u001b[39m_call(\u001b[39m*\u001b[39margs, \u001b[39m*\u001b[39m\u001b[39m*\u001b[39mkwds)\n\u001b[0;32m    <a href='file:///c%3A/Users/karth/anaconda3/envs/chandra/lib/site-packages/tensorflow-2.9.1-py3.9-win-amd64.egg/tensorflow/python/eager/def_function.py?line=916'>917</a>\u001b[0m new_tracing_count \u001b[39m=\u001b[39m \u001b[39mself\u001b[39m\u001b[39m.\u001b[39mexperimental_get_tracing_count()\n\u001b[0;32m    <a href='file:///c%3A/Users/karth/anaconda3/envs/chandra/lib/site-packages/tensorflow-2.9.1-py3.9-win-amd64.egg/tensorflow/python/eager/def_function.py?line=917'>918</a>\u001b[0m without_tracing \u001b[39m=\u001b[39m (tracing_count \u001b[39m==\u001b[39m new_tracing_count)\n",
      "File \u001b[1;32mc:\\Users\\karth\\anaconda3\\envs\\chandra\\lib\\site-packages\\tensorflow-2.9.1-py3.9-win-amd64.egg\\tensorflow\\python\\eager\\def_function.py:947\u001b[0m, in \u001b[0;36mFunction._call\u001b[1;34m(self, *args, **kwds)\u001b[0m\n\u001b[0;32m    <a href='file:///c%3A/Users/karth/anaconda3/envs/chandra/lib/site-packages/tensorflow-2.9.1-py3.9-win-amd64.egg/tensorflow/python/eager/def_function.py?line=943'>944</a>\u001b[0m   \u001b[39mself\u001b[39m\u001b[39m.\u001b[39m_lock\u001b[39m.\u001b[39mrelease()\n\u001b[0;32m    <a href='file:///c%3A/Users/karth/anaconda3/envs/chandra/lib/site-packages/tensorflow-2.9.1-py3.9-win-amd64.egg/tensorflow/python/eager/def_function.py?line=944'>945</a>\u001b[0m   \u001b[39m# In this case we have created variables on the first call, so we run the\u001b[39;00m\n\u001b[0;32m    <a href='file:///c%3A/Users/karth/anaconda3/envs/chandra/lib/site-packages/tensorflow-2.9.1-py3.9-win-amd64.egg/tensorflow/python/eager/def_function.py?line=945'>946</a>\u001b[0m   \u001b[39m# defunned version which is guaranteed to never create variables.\u001b[39;00m\n\u001b[1;32m--> <a href='file:///c%3A/Users/karth/anaconda3/envs/chandra/lib/site-packages/tensorflow-2.9.1-py3.9-win-amd64.egg/tensorflow/python/eager/def_function.py?line=946'>947</a>\u001b[0m   \u001b[39mreturn\u001b[39;00m \u001b[39mself\u001b[39m\u001b[39m.\u001b[39m_stateless_fn(\u001b[39m*\u001b[39margs, \u001b[39m*\u001b[39m\u001b[39m*\u001b[39mkwds)  \u001b[39m# pylint: disable=not-callable\u001b[39;00m\n\u001b[0;32m    <a href='file:///c%3A/Users/karth/anaconda3/envs/chandra/lib/site-packages/tensorflow-2.9.1-py3.9-win-amd64.egg/tensorflow/python/eager/def_function.py?line=947'>948</a>\u001b[0m \u001b[39melif\u001b[39;00m \u001b[39mself\u001b[39m\u001b[39m.\u001b[39m_stateful_fn \u001b[39mis\u001b[39;00m \u001b[39mnot\u001b[39;00m \u001b[39mNone\u001b[39;00m:\n\u001b[0;32m    <a href='file:///c%3A/Users/karth/anaconda3/envs/chandra/lib/site-packages/tensorflow-2.9.1-py3.9-win-amd64.egg/tensorflow/python/eager/def_function.py?line=948'>949</a>\u001b[0m   \u001b[39m# Release the lock early so that multiple threads can perform the call\u001b[39;00m\n\u001b[0;32m    <a href='file:///c%3A/Users/karth/anaconda3/envs/chandra/lib/site-packages/tensorflow-2.9.1-py3.9-win-amd64.egg/tensorflow/python/eager/def_function.py?line=949'>950</a>\u001b[0m   \u001b[39m# in parallel.\u001b[39;00m\n\u001b[0;32m    <a href='file:///c%3A/Users/karth/anaconda3/envs/chandra/lib/site-packages/tensorflow-2.9.1-py3.9-win-amd64.egg/tensorflow/python/eager/def_function.py?line=950'>951</a>\u001b[0m   \u001b[39mself\u001b[39m\u001b[39m.\u001b[39m_lock\u001b[39m.\u001b[39mrelease()\n",
      "File \u001b[1;32mc:\\Users\\karth\\anaconda3\\envs\\chandra\\lib\\site-packages\\tensorflow-2.9.1-py3.9-win-amd64.egg\\tensorflow\\python\\eager\\function.py:2453\u001b[0m, in \u001b[0;36mFunction.__call__\u001b[1;34m(self, *args, **kwargs)\u001b[0m\n\u001b[0;32m   <a href='file:///c%3A/Users/karth/anaconda3/envs/chandra/lib/site-packages/tensorflow-2.9.1-py3.9-win-amd64.egg/tensorflow/python/eager/function.py?line=2449'>2450</a>\u001b[0m \u001b[39mwith\u001b[39;00m \u001b[39mself\u001b[39m\u001b[39m.\u001b[39m_lock:\n\u001b[0;32m   <a href='file:///c%3A/Users/karth/anaconda3/envs/chandra/lib/site-packages/tensorflow-2.9.1-py3.9-win-amd64.egg/tensorflow/python/eager/function.py?line=2450'>2451</a>\u001b[0m   (graph_function,\n\u001b[0;32m   <a href='file:///c%3A/Users/karth/anaconda3/envs/chandra/lib/site-packages/tensorflow-2.9.1-py3.9-win-amd64.egg/tensorflow/python/eager/function.py?line=2451'>2452</a>\u001b[0m    filtered_flat_args) \u001b[39m=\u001b[39m \u001b[39mself\u001b[39m\u001b[39m.\u001b[39m_maybe_define_function(args, kwargs)\n\u001b[1;32m-> <a href='file:///c%3A/Users/karth/anaconda3/envs/chandra/lib/site-packages/tensorflow-2.9.1-py3.9-win-amd64.egg/tensorflow/python/eager/function.py?line=2452'>2453</a>\u001b[0m \u001b[39mreturn\u001b[39;00m graph_function\u001b[39m.\u001b[39;49m_call_flat(\n\u001b[0;32m   <a href='file:///c%3A/Users/karth/anaconda3/envs/chandra/lib/site-packages/tensorflow-2.9.1-py3.9-win-amd64.egg/tensorflow/python/eager/function.py?line=2453'>2454</a>\u001b[0m     filtered_flat_args, captured_inputs\u001b[39m=\u001b[39;49mgraph_function\u001b[39m.\u001b[39;49mcaptured_inputs)\n",
      "File \u001b[1;32mc:\\Users\\karth\\anaconda3\\envs\\chandra\\lib\\site-packages\\tensorflow-2.9.1-py3.9-win-amd64.egg\\tensorflow\\python\\eager\\function.py:1860\u001b[0m, in \u001b[0;36mConcreteFunction._call_flat\u001b[1;34m(self, args, captured_inputs, cancellation_manager)\u001b[0m\n\u001b[0;32m   <a href='file:///c%3A/Users/karth/anaconda3/envs/chandra/lib/site-packages/tensorflow-2.9.1-py3.9-win-amd64.egg/tensorflow/python/eager/function.py?line=1855'>1856</a>\u001b[0m possible_gradient_type \u001b[39m=\u001b[39m gradients_util\u001b[39m.\u001b[39mPossibleTapeGradientTypes(args)\n\u001b[0;32m   <a href='file:///c%3A/Users/karth/anaconda3/envs/chandra/lib/site-packages/tensorflow-2.9.1-py3.9-win-amd64.egg/tensorflow/python/eager/function.py?line=1856'>1857</a>\u001b[0m \u001b[39mif\u001b[39;00m (possible_gradient_type \u001b[39m==\u001b[39m gradients_util\u001b[39m.\u001b[39mPOSSIBLE_GRADIENT_TYPES_NONE\n\u001b[0;32m   <a href='file:///c%3A/Users/karth/anaconda3/envs/chandra/lib/site-packages/tensorflow-2.9.1-py3.9-win-amd64.egg/tensorflow/python/eager/function.py?line=1857'>1858</a>\u001b[0m     \u001b[39mand\u001b[39;00m executing_eagerly):\n\u001b[0;32m   <a href='file:///c%3A/Users/karth/anaconda3/envs/chandra/lib/site-packages/tensorflow-2.9.1-py3.9-win-amd64.egg/tensorflow/python/eager/function.py?line=1858'>1859</a>\u001b[0m   \u001b[39m# No tape is watching; skip to running the function.\u001b[39;00m\n\u001b[1;32m-> <a href='file:///c%3A/Users/karth/anaconda3/envs/chandra/lib/site-packages/tensorflow-2.9.1-py3.9-win-amd64.egg/tensorflow/python/eager/function.py?line=1859'>1860</a>\u001b[0m   \u001b[39mreturn\u001b[39;00m \u001b[39mself\u001b[39m\u001b[39m.\u001b[39m_build_call_outputs(\u001b[39mself\u001b[39;49m\u001b[39m.\u001b[39;49m_inference_function\u001b[39m.\u001b[39;49mcall(\n\u001b[0;32m   <a href='file:///c%3A/Users/karth/anaconda3/envs/chandra/lib/site-packages/tensorflow-2.9.1-py3.9-win-amd64.egg/tensorflow/python/eager/function.py?line=1860'>1861</a>\u001b[0m       ctx, args, cancellation_manager\u001b[39m=\u001b[39;49mcancellation_manager))\n\u001b[0;32m   <a href='file:///c%3A/Users/karth/anaconda3/envs/chandra/lib/site-packages/tensorflow-2.9.1-py3.9-win-amd64.egg/tensorflow/python/eager/function.py?line=1861'>1862</a>\u001b[0m forward_backward \u001b[39m=\u001b[39m \u001b[39mself\u001b[39m\u001b[39m.\u001b[39m_select_forward_and_backward_functions(\n\u001b[0;32m   <a href='file:///c%3A/Users/karth/anaconda3/envs/chandra/lib/site-packages/tensorflow-2.9.1-py3.9-win-amd64.egg/tensorflow/python/eager/function.py?line=1862'>1863</a>\u001b[0m     args,\n\u001b[0;32m   <a href='file:///c%3A/Users/karth/anaconda3/envs/chandra/lib/site-packages/tensorflow-2.9.1-py3.9-win-amd64.egg/tensorflow/python/eager/function.py?line=1863'>1864</a>\u001b[0m     possible_gradient_type,\n\u001b[0;32m   <a href='file:///c%3A/Users/karth/anaconda3/envs/chandra/lib/site-packages/tensorflow-2.9.1-py3.9-win-amd64.egg/tensorflow/python/eager/function.py?line=1864'>1865</a>\u001b[0m     executing_eagerly)\n\u001b[0;32m   <a href='file:///c%3A/Users/karth/anaconda3/envs/chandra/lib/site-packages/tensorflow-2.9.1-py3.9-win-amd64.egg/tensorflow/python/eager/function.py?line=1865'>1866</a>\u001b[0m forward_function, args_with_tangents \u001b[39m=\u001b[39m forward_backward\u001b[39m.\u001b[39mforward()\n",
      "File \u001b[1;32mc:\\Users\\karth\\anaconda3\\envs\\chandra\\lib\\site-packages\\tensorflow-2.9.1-py3.9-win-amd64.egg\\tensorflow\\python\\eager\\function.py:497\u001b[0m, in \u001b[0;36m_EagerDefinedFunction.call\u001b[1;34m(self, ctx, args, cancellation_manager)\u001b[0m\n\u001b[0;32m    <a href='file:///c%3A/Users/karth/anaconda3/envs/chandra/lib/site-packages/tensorflow-2.9.1-py3.9-win-amd64.egg/tensorflow/python/eager/function.py?line=494'>495</a>\u001b[0m \u001b[39mwith\u001b[39;00m _InterpolateFunctionError(\u001b[39mself\u001b[39m):\n\u001b[0;32m    <a href='file:///c%3A/Users/karth/anaconda3/envs/chandra/lib/site-packages/tensorflow-2.9.1-py3.9-win-amd64.egg/tensorflow/python/eager/function.py?line=495'>496</a>\u001b[0m   \u001b[39mif\u001b[39;00m cancellation_manager \u001b[39mis\u001b[39;00m \u001b[39mNone\u001b[39;00m:\n\u001b[1;32m--> <a href='file:///c%3A/Users/karth/anaconda3/envs/chandra/lib/site-packages/tensorflow-2.9.1-py3.9-win-amd64.egg/tensorflow/python/eager/function.py?line=496'>497</a>\u001b[0m     outputs \u001b[39m=\u001b[39m execute\u001b[39m.\u001b[39;49mexecute(\n\u001b[0;32m    <a href='file:///c%3A/Users/karth/anaconda3/envs/chandra/lib/site-packages/tensorflow-2.9.1-py3.9-win-amd64.egg/tensorflow/python/eager/function.py?line=497'>498</a>\u001b[0m         \u001b[39mstr\u001b[39;49m(\u001b[39mself\u001b[39;49m\u001b[39m.\u001b[39;49msignature\u001b[39m.\u001b[39;49mname),\n\u001b[0;32m    <a href='file:///c%3A/Users/karth/anaconda3/envs/chandra/lib/site-packages/tensorflow-2.9.1-py3.9-win-amd64.egg/tensorflow/python/eager/function.py?line=498'>499</a>\u001b[0m         num_outputs\u001b[39m=\u001b[39;49m\u001b[39mself\u001b[39;49m\u001b[39m.\u001b[39;49m_num_outputs,\n\u001b[0;32m    <a href='file:///c%3A/Users/karth/anaconda3/envs/chandra/lib/site-packages/tensorflow-2.9.1-py3.9-win-amd64.egg/tensorflow/python/eager/function.py?line=499'>500</a>\u001b[0m         inputs\u001b[39m=\u001b[39;49margs,\n\u001b[0;32m    <a href='file:///c%3A/Users/karth/anaconda3/envs/chandra/lib/site-packages/tensorflow-2.9.1-py3.9-win-amd64.egg/tensorflow/python/eager/function.py?line=500'>501</a>\u001b[0m         attrs\u001b[39m=\u001b[39;49mattrs,\n\u001b[0;32m    <a href='file:///c%3A/Users/karth/anaconda3/envs/chandra/lib/site-packages/tensorflow-2.9.1-py3.9-win-amd64.egg/tensorflow/python/eager/function.py?line=501'>502</a>\u001b[0m         ctx\u001b[39m=\u001b[39;49mctx)\n\u001b[0;32m    <a href='file:///c%3A/Users/karth/anaconda3/envs/chandra/lib/site-packages/tensorflow-2.9.1-py3.9-win-amd64.egg/tensorflow/python/eager/function.py?line=502'>503</a>\u001b[0m   \u001b[39melse\u001b[39;00m:\n\u001b[0;32m    <a href='file:///c%3A/Users/karth/anaconda3/envs/chandra/lib/site-packages/tensorflow-2.9.1-py3.9-win-amd64.egg/tensorflow/python/eager/function.py?line=503'>504</a>\u001b[0m     outputs \u001b[39m=\u001b[39m execute\u001b[39m.\u001b[39mexecute_with_cancellation(\n\u001b[0;32m    <a href='file:///c%3A/Users/karth/anaconda3/envs/chandra/lib/site-packages/tensorflow-2.9.1-py3.9-win-amd64.egg/tensorflow/python/eager/function.py?line=504'>505</a>\u001b[0m         \u001b[39mstr\u001b[39m(\u001b[39mself\u001b[39m\u001b[39m.\u001b[39msignature\u001b[39m.\u001b[39mname),\n\u001b[0;32m    <a href='file:///c%3A/Users/karth/anaconda3/envs/chandra/lib/site-packages/tensorflow-2.9.1-py3.9-win-amd64.egg/tensorflow/python/eager/function.py?line=505'>506</a>\u001b[0m         num_outputs\u001b[39m=\u001b[39m\u001b[39mself\u001b[39m\u001b[39m.\u001b[39m_num_outputs,\n\u001b[1;32m   (...)\u001b[0m\n\u001b[0;32m    <a href='file:///c%3A/Users/karth/anaconda3/envs/chandra/lib/site-packages/tensorflow-2.9.1-py3.9-win-amd64.egg/tensorflow/python/eager/function.py?line=508'>509</a>\u001b[0m         ctx\u001b[39m=\u001b[39mctx,\n\u001b[0;32m    <a href='file:///c%3A/Users/karth/anaconda3/envs/chandra/lib/site-packages/tensorflow-2.9.1-py3.9-win-amd64.egg/tensorflow/python/eager/function.py?line=509'>510</a>\u001b[0m         cancellation_manager\u001b[39m=\u001b[39mcancellation_manager)\n",
      "File \u001b[1;32mc:\\Users\\karth\\anaconda3\\envs\\chandra\\lib\\site-packages\\tensorflow-2.9.1-py3.9-win-amd64.egg\\tensorflow\\python\\eager\\execute.py:54\u001b[0m, in \u001b[0;36mquick_execute\u001b[1;34m(op_name, num_outputs, inputs, attrs, ctx, name)\u001b[0m\n\u001b[0;32m     <a href='file:///c%3A/Users/karth/anaconda3/envs/chandra/lib/site-packages/tensorflow-2.9.1-py3.9-win-amd64.egg/tensorflow/python/eager/execute.py?line=51'>52</a>\u001b[0m \u001b[39mtry\u001b[39;00m:\n\u001b[0;32m     <a href='file:///c%3A/Users/karth/anaconda3/envs/chandra/lib/site-packages/tensorflow-2.9.1-py3.9-win-amd64.egg/tensorflow/python/eager/execute.py?line=52'>53</a>\u001b[0m   ctx\u001b[39m.\u001b[39mensure_initialized()\n\u001b[1;32m---> <a href='file:///c%3A/Users/karth/anaconda3/envs/chandra/lib/site-packages/tensorflow-2.9.1-py3.9-win-amd64.egg/tensorflow/python/eager/execute.py?line=53'>54</a>\u001b[0m   tensors \u001b[39m=\u001b[39m pywrap_tfe\u001b[39m.\u001b[39;49mTFE_Py_Execute(ctx\u001b[39m.\u001b[39;49m_handle, device_name, op_name,\n\u001b[0;32m     <a href='file:///c%3A/Users/karth/anaconda3/envs/chandra/lib/site-packages/tensorflow-2.9.1-py3.9-win-amd64.egg/tensorflow/python/eager/execute.py?line=54'>55</a>\u001b[0m                                       inputs, attrs, num_outputs)\n\u001b[0;32m     <a href='file:///c%3A/Users/karth/anaconda3/envs/chandra/lib/site-packages/tensorflow-2.9.1-py3.9-win-amd64.egg/tensorflow/python/eager/execute.py?line=55'>56</a>\u001b[0m \u001b[39mexcept\u001b[39;00m core\u001b[39m.\u001b[39m_NotOkStatusException \u001b[39mas\u001b[39;00m e:\n\u001b[0;32m     <a href='file:///c%3A/Users/karth/anaconda3/envs/chandra/lib/site-packages/tensorflow-2.9.1-py3.9-win-amd64.egg/tensorflow/python/eager/execute.py?line=56'>57</a>\u001b[0m   \u001b[39mif\u001b[39;00m name \u001b[39mis\u001b[39;00m \u001b[39mnot\u001b[39;00m \u001b[39mNone\u001b[39;00m:\n",
      "\u001b[1;31mKeyboardInterrupt\u001b[0m: "
     ]
    }
   ],
   "source": [
    "history, model = train_TL(batch_size=128)"
   ]
  },
  {
   "cell_type": "code",
   "execution_count": 30,
   "metadata": {},
   "outputs": [
    {
     "ename": "NameError",
     "evalue": "name 'history' is not defined",
     "output_type": "error",
     "traceback": [
      "\u001b[1;31m---------------------------------------------------------------------------\u001b[0m",
      "\u001b[1;31mNameError\u001b[0m                                 Traceback (most recent call last)",
      "\u001b[1;32mc:\\Users\\karth\\Desktop\\Erdos\\GalaxyTeam\\notebooks\\4_transfer_learning.ipynb Cell 9'\u001b[0m in \u001b[0;36m<cell line: 7>\u001b[1;34m()\u001b[0m\n\u001b[0;32m      <a href='vscode-notebook-cell:/c%3A/Users/karth/Desktop/Erdos/GalaxyTeam/notebooks/4_transfer_learning.ipynb#ch0000009?line=2'>3</a>\u001b[0m sp2 \u001b[39m=\u001b[39m fig\u001b[39m.\u001b[39madd_subplot(\u001b[39m132\u001b[39m)\n\u001b[0;32m      <a href='vscode-notebook-cell:/c%3A/Users/karth/Desktop/Erdos/GalaxyTeam/notebooks/4_transfer_learning.ipynb#ch0000009?line=4'>5</a>\u001b[0m num_epochs \u001b[39m=\u001b[39m \u001b[39mrange\u001b[39m(\u001b[39m0\u001b[39m, \u001b[39m15\u001b[39m)\n\u001b[1;32m----> <a href='vscode-notebook-cell:/c%3A/Users/karth/Desktop/Erdos/GalaxyTeam/notebooks/4_transfer_learning.ipynb#ch0000009?line=6'>7</a>\u001b[0m sp1\u001b[39m.\u001b[39mplot(num_epochs, history\u001b[39m.\u001b[39mhistory[\u001b[39m'\u001b[39m\u001b[39mloss\u001b[39m\u001b[39m'\u001b[39m], linewidth\u001b[39m=\u001b[39m\u001b[39m2\u001b[39m, label\u001b[39m=\u001b[39m\u001b[39m'\u001b[39m\u001b[39mTrain\u001b[39m\u001b[39m'\u001b[39m)\n\u001b[0;32m      <a href='vscode-notebook-cell:/c%3A/Users/karth/Desktop/Erdos/GalaxyTeam/notebooks/4_transfer_learning.ipynb#ch0000009?line=7'>8</a>\u001b[0m sp1\u001b[39m.\u001b[39mplot(num_epochs, history\u001b[39m.\u001b[39mhistory[\u001b[39m'\u001b[39m\u001b[39mval_loss\u001b[39m\u001b[39m'\u001b[39m], linewidth\u001b[39m=\u001b[39m\u001b[39m2\u001b[39m, label\u001b[39m=\u001b[39m\u001b[39m'\u001b[39m\u001b[39mVal\u001b[39m\u001b[39m'\u001b[39m)\n\u001b[0;32m     <a href='vscode-notebook-cell:/c%3A/Users/karth/Desktop/Erdos/GalaxyTeam/notebooks/4_transfer_learning.ipynb#ch0000009?line=9'>10</a>\u001b[0m sp2\u001b[39m.\u001b[39mplot(num_epochs, history\u001b[39m.\u001b[39mhistory[\u001b[39m'\u001b[39m\u001b[39mbinary_accuracy\u001b[39m\u001b[39m'\u001b[39m], linewidth\u001b[39m=\u001b[39m\u001b[39m2\u001b[39m, label\u001b[39m=\u001b[39m\u001b[39m'\u001b[39m\u001b[39mTrain\u001b[39m\u001b[39m'\u001b[39m)\n",
      "\u001b[1;31mNameError\u001b[0m: name 'history' is not defined"
     ]
    },
    {
     "data": {
      "image/png": "[encoded data removed]",
      "text/plain": [
       "<Figure size 1728x576 with 2 Axes>"
      ]
     },
     "metadata": {
      "needs_background": "light"
     },
     "output_type": "display_data"
    }
   ],
   "source": [
    "fig = plt.figure(figsize=(24, 8))\n",
    "sp1 = fig.add_subplot(131)\n",
    "sp2 = fig.add_subplot(132)\n",
    "\n",
    "num_epochs = range(0, 15)\n",
    "\n",
    "sp1.plot(num_epochs, history.history['loss'], linewidth=2, label='Train')\n",
    "sp1.plot(num_epochs, history.history['val_loss'], linewidth=2, label='Val')\n",
    "\n",
    "sp2.plot(num_epochs, history.history['binary_accuracy'], linewidth=2, label='Train')\n",
    "sp2.plot(num_epochs, history.history['val_binary_accuracy'], linewidth=2, label='Val')\n",
    "\n",
    "sp1.set_xlabel('Epoch')\n",
    "sp1.set_ylabel('Loss')\n",
    "sp1.legend()\n",
    "\n",
    "sp2.set_xlabel('Epoch')\n",
    "sp2.set_ylabel('binary_accuracy')\n",
    "sp2.legend()\n"
   ]
  },
  {
   "cell_type": "code",
   "execution_count": null,
   "metadata": {},
   "outputs": [
    {
     "name": "stderr",
     "output_type": "stream",
     "text": [
      "WARNING:absl:Found untraced functions such as _jit_compiled_convolution_op, _jit_compiled_convolution_op, _jit_compiled_convolution_op, _jit_compiled_convolution_op, _jit_compiled_convolution_op while saving (showing 5 of 155). These functions will not be directly callable after loading.\n"
     ]
    },
    {
     "name": "stdout",
     "output_type": "stream",
     "text": [
      "INFO:tensorflow:Assets written to: TL_v1\\assets\n"
     ]
    },
    {
     "name": "stderr",
     "output_type": "stream",
     "text": [
      "INFO:tensorflow:Assets written to: TL_v1\\assets\n"
     ]
    }
   ],
   "source": [
    "model.save('TL_v2')"
   ]
  },
  {
   "cell_type": "code",
   "execution_count": 20,
   "metadata": {},
   "outputs": [],
   "source": [
    "from keras.models import load_model\n",
    "model = load_model('TL_v1')"
   ]
  },
  {
   "cell_type": "code",
   "execution_count": null,
   "metadata": {},
   "outputs": [
    {
     "name": "stdout",
     "output_type": "stream",
     "text": [
      "Model: \"model\"\n",
      "_________________________________________________________________\n",
      " Layer (type)                Output Shape              Param #   \n",
      "=================================================================\n",
      " input_1 (InputLayer)        [(None, 224, 224, 3)]     0         \n",
      "                                                                 \n",
      " resnet152v2 (Functional)    (None, 7, 7, 2048)        58331648  \n",
      "                                                                 \n",
      " global_average_pooling2d (G  (None, 2048)             0         \n",
      " lobalAveragePooling2D)                                          \n",
      "                                                                 \n",
      " dense (Dense)               (None, 128)               262272    \n",
      "                                                                 \n",
      " dropout (Dropout)           (None, 128)               0         \n",
      "                                                                 \n",
      " dense_1 (Dense)             (None, 1)                 129       \n",
      "                                                                 \n",
      "=================================================================\n",
      "Total params: 58,594,049\n",
      "Trainable params: 262,401\n",
      "Non-trainable params: 58,331,648\n",
      "_________________________________________________________________\n"
     ]
    }
   ],
   "source": [
    "base_model.trainable = True\n",
    "model.summary()"
   ]
  },
  {
   "cell_type": "code",
   "execution_count": null,
   "metadata": {},
   "outputs": [],
   "source": [
    "model.compile(\n",
    "    optimizer=keras.optimizers.Adam(1e-5),  # Low learning rate\n",
    "    loss=keras.losses.BinaryCrossentropy(from_logits=True),\n",
    "    metrics=metrics=[keras.metrics.Precision(),\n",
    "                        keras.metrics.Recall()],\n",
    ")\n"
   ]
  },
  {
   "cell_type": "code",
   "execution_count": null,
   "metadata": {},
   "outputs": [],
   "source": [
    "def train_TL_finetune(epochs=10, batch_size=32, val_frac=0.2,\n",
    "              train_info_file_path='./data/preprocessed/train_metadata.csv'):\n",
    "\n",
    "    full_train = pd.read_csv(train_info_file_path)\n",
    "\n",
    "    train_data, val_data = train_test_split(full_train, test_size=0.2,\n",
    "                                            shuffle=True,\n",
    "                                            stratify=full_train.is_pneumonia,\n",
    "                                            random_state=9473)\n",
    "\n",
    "    # Create Tensorflow datasets\n",
    "    train_dataset = create_dataset(train_data.resized_file_path,\n",
    "                                   train_data.is_pneumonia,\n",
    "                                   batch_size=batch_size)\n",
    "    val_dataset = create_dataset(val_data.resized_file_path,\n",
    "                                 val_data.is_pneumonia,\n",
    "                                 batch_size=batch_size)\n",
    "\n",
    "\n",
    "\n",
    "    history = model_pretrained.fit(train_dataset,callbacks=[early_stopping, plateau], epochs=epochs, verbose=1,\n",
    "                        validation_data=val_dataset)\n",
    "\n",
    "    return history, model_pretrained"
   ]
  },
  {
   "cell_type": "code",
   "execution_count": null,
   "metadata": {},
   "outputs": [
    {
     "name": "stdout",
     "output_type": "stream",
     "text": [
      "Epoch 1/15\n",
      " 55/118 [============>.................] - ETA: 3:49 - loss: 44.1372 - binary_accuracy: 0.6261"
     ]
    },
    {
     "ename": "KeyboardInterrupt",
     "evalue": "",
     "output_type": "error",
     "traceback": [
      "\u001b[1;31m---------------------------------------------------------------------------\u001b[0m",
      "\u001b[1;31mKeyboardInterrupt\u001b[0m                         Traceback (most recent call last)",
      "\u001b[1;32mc:\\Users\\karth\\Desktop\\Erdos\\GalaxyTeam\\notebooks\\4_transfer_learning.ipynb Cell 17'\u001b[0m in \u001b[0;36m<cell line: 1>\u001b[1;34m()\u001b[0m\n\u001b[1;32m----> <a href='vscode-notebook-cell:/c%3A/Users/karth/Desktop/Erdos/GalaxyTeam/notebooks/4_transfer_learning.ipynb#ch0000018?line=0'>1</a>\u001b[0m history, model \u001b[39m=\u001b[39m train_TL_2(batch_size\u001b[39m=\u001b[39;49m\u001b[39m32\u001b[39;49m)\n",
      "\u001b[1;32mc:\\Users\\karth\\Desktop\\Erdos\\GalaxyTeam\\notebooks\\4_transfer_learning.ipynb Cell 16'\u001b[0m in \u001b[0;36mtrain_TL_2\u001b[1;34m(epochs, batch_size, val_frac, train_info_file_path)\u001b[0m\n\u001b[0;32m     <a href='vscode-notebook-cell:/c%3A/Users/karth/Desktop/Erdos/GalaxyTeam/notebooks/4_transfer_learning.ipynb#ch0000016?line=11'>12</a>\u001b[0m train_dataset \u001b[39m=\u001b[39m create_dataset(train_data\u001b[39m.\u001b[39mresized_file_path,\n\u001b[0;32m     <a href='vscode-notebook-cell:/c%3A/Users/karth/Desktop/Erdos/GalaxyTeam/notebooks/4_transfer_learning.ipynb#ch0000016?line=12'>13</a>\u001b[0m                                train_data\u001b[39m.\u001b[39mis_pneumonia,\n\u001b[0;32m     <a href='vscode-notebook-cell:/c%3A/Users/karth/Desktop/Erdos/GalaxyTeam/notebooks/4_transfer_learning.ipynb#ch0000016?line=13'>14</a>\u001b[0m                                batch_size\u001b[39m=\u001b[39mbatch_size)\n\u001b[0;32m     <a href='vscode-notebook-cell:/c%3A/Users/karth/Desktop/Erdos/GalaxyTeam/notebooks/4_transfer_learning.ipynb#ch0000016?line=14'>15</a>\u001b[0m val_dataset \u001b[39m=\u001b[39m create_dataset(val_data\u001b[39m.\u001b[39mresized_file_path,\n\u001b[0;32m     <a href='vscode-notebook-cell:/c%3A/Users/karth/Desktop/Erdos/GalaxyTeam/notebooks/4_transfer_learning.ipynb#ch0000016?line=15'>16</a>\u001b[0m                              val_data\u001b[39m.\u001b[39mis_pneumonia,\n\u001b[0;32m     <a href='vscode-notebook-cell:/c%3A/Users/karth/Desktop/Erdos/GalaxyTeam/notebooks/4_transfer_learning.ipynb#ch0000016?line=16'>17</a>\u001b[0m                              batch_size\u001b[39m=\u001b[39mbatch_size)\n\u001b[1;32m---> <a href='vscode-notebook-cell:/c%3A/Users/karth/Desktop/Erdos/GalaxyTeam/notebooks/4_transfer_learning.ipynb#ch0000016?line=20'>21</a>\u001b[0m history \u001b[39m=\u001b[39m model_pretrained\u001b[39m.\u001b[39;49mfit(train_dataset,callbacks\u001b[39m=\u001b[39;49m[early_stopping, plateau], epochs\u001b[39m=\u001b[39;49mepochs, verbose\u001b[39m=\u001b[39;49m\u001b[39m1\u001b[39;49m,\n\u001b[0;32m     <a href='vscode-notebook-cell:/c%3A/Users/karth/Desktop/Erdos/GalaxyTeam/notebooks/4_transfer_learning.ipynb#ch0000016?line=21'>22</a>\u001b[0m                     validation_data\u001b[39m=\u001b[39;49mval_dataset)\n\u001b[0;32m     <a href='vscode-notebook-cell:/c%3A/Users/karth/Desktop/Erdos/GalaxyTeam/notebooks/4_transfer_learning.ipynb#ch0000016?line=23'>24</a>\u001b[0m \u001b[39mreturn\u001b[39;00m history, model_pretrained\n",
      "File \u001b[1;32mc:\\Users\\karth\\anaconda3\\envs\\chandra\\lib\\site-packages\\keras-2.9.0-py3.9.egg\\keras\\utils\\traceback_utils.py:64\u001b[0m, in \u001b[0;36mfilter_traceback.<locals>.error_handler\u001b[1;34m(*args, **kwargs)\u001b[0m\n\u001b[0;32m     <a href='file:///c%3A/Users/karth/anaconda3/envs/chandra/lib/site-packages/keras-2.9.0-py3.9.egg/keras/utils/traceback_utils.py?line=61'>62</a>\u001b[0m filtered_tb \u001b[39m=\u001b[39m \u001b[39mNone\u001b[39;00m\n\u001b[0;32m     <a href='file:///c%3A/Users/karth/anaconda3/envs/chandra/lib/site-packages/keras-2.9.0-py3.9.egg/keras/utils/traceback_utils.py?line=62'>63</a>\u001b[0m \u001b[39mtry\u001b[39;00m:\n\u001b[1;32m---> <a href='file:///c%3A/Users/karth/anaconda3/envs/chandra/lib/site-packages/keras-2.9.0-py3.9.egg/keras/utils/traceback_utils.py?line=63'>64</a>\u001b[0m   \u001b[39mreturn\u001b[39;00m fn(\u001b[39m*\u001b[39margs, \u001b[39m*\u001b[39m\u001b[39m*\u001b[39mkwargs)\n\u001b[0;32m     <a href='file:///c%3A/Users/karth/anaconda3/envs/chandra/lib/site-packages/keras-2.9.0-py3.9.egg/keras/utils/traceback_utils.py?line=64'>65</a>\u001b[0m \u001b[39mexcept\u001b[39;00m \u001b[39mException\u001b[39;00m \u001b[39mas\u001b[39;00m e:  \u001b[39m# pylint: disable=broad-except\u001b[39;00m\n\u001b[0;32m     <a href='file:///c%3A/Users/karth/anaconda3/envs/chandra/lib/site-packages/keras-2.9.0-py3.9.egg/keras/utils/traceback_utils.py?line=65'>66</a>\u001b[0m   filtered_tb \u001b[39m=\u001b[39m _process_traceback_frames(e\u001b[39m.\u001b[39m__traceback__)\n",
      "File \u001b[1;32mc:\\Users\\karth\\anaconda3\\envs\\chandra\\lib\\site-packages\\keras-2.9.0-py3.9.egg\\keras\\engine\\training.py:1409\u001b[0m, in \u001b[0;36mModel.fit\u001b[1;34m(self, x, y, batch_size, epochs, verbose, callbacks, validation_split, validation_data, shuffle, class_weight, sample_weight, initial_epoch, steps_per_epoch, validation_steps, validation_batch_size, validation_freq, max_queue_size, workers, use_multiprocessing)\u001b[0m\n\u001b[0;32m   <a href='file:///c%3A/Users/karth/anaconda3/envs/chandra/lib/site-packages/keras-2.9.0-py3.9.egg/keras/engine/training.py?line=1401'>1402</a>\u001b[0m \u001b[39mwith\u001b[39;00m tf\u001b[39m.\u001b[39mprofiler\u001b[39m.\u001b[39mexperimental\u001b[39m.\u001b[39mTrace(\n\u001b[0;32m   <a href='file:///c%3A/Users/karth/anaconda3/envs/chandra/lib/site-packages/keras-2.9.0-py3.9.egg/keras/engine/training.py?line=1402'>1403</a>\u001b[0m     \u001b[39m'\u001b[39m\u001b[39mtrain\u001b[39m\u001b[39m'\u001b[39m,\n\u001b[0;32m   <a href='file:///c%3A/Users/karth/anaconda3/envs/chandra/lib/site-packages/keras-2.9.0-py3.9.egg/keras/engine/training.py?line=1403'>1404</a>\u001b[0m     epoch_num\u001b[39m=\u001b[39mepoch,\n\u001b[0;32m   <a href='file:///c%3A/Users/karth/anaconda3/envs/chandra/lib/site-packages/keras-2.9.0-py3.9.egg/keras/engine/training.py?line=1404'>1405</a>\u001b[0m     step_num\u001b[39m=\u001b[39mstep,\n\u001b[0;32m   <a href='file:///c%3A/Users/karth/anaconda3/envs/chandra/lib/site-packages/keras-2.9.0-py3.9.egg/keras/engine/training.py?line=1405'>1406</a>\u001b[0m     batch_size\u001b[39m=\u001b[39mbatch_size,\n\u001b[0;32m   <a href='file:///c%3A/Users/karth/anaconda3/envs/chandra/lib/site-packages/keras-2.9.0-py3.9.egg/keras/engine/training.py?line=1406'>1407</a>\u001b[0m     _r\u001b[39m=\u001b[39m\u001b[39m1\u001b[39m):\n\u001b[0;32m   <a href='file:///c%3A/Users/karth/anaconda3/envs/chandra/lib/site-packages/keras-2.9.0-py3.9.egg/keras/engine/training.py?line=1407'>1408</a>\u001b[0m   callbacks\u001b[39m.\u001b[39mon_train_batch_begin(step)\n\u001b[1;32m-> <a href='file:///c%3A/Users/karth/anaconda3/envs/chandra/lib/site-packages/keras-2.9.0-py3.9.egg/keras/engine/training.py?line=1408'>1409</a>\u001b[0m   tmp_logs \u001b[39m=\u001b[39m \u001b[39mself\u001b[39;49m\u001b[39m.\u001b[39;49mtrain_function(iterator)\n\u001b[0;32m   <a href='file:///c%3A/Users/karth/anaconda3/envs/chandra/lib/site-packages/keras-2.9.0-py3.9.egg/keras/engine/training.py?line=1409'>1410</a>\u001b[0m   \u001b[39mif\u001b[39;00m data_handler\u001b[39m.\u001b[39mshould_sync:\n\u001b[0;32m   <a href='file:///c%3A/Users/karth/anaconda3/envs/chandra/lib/site-packages/keras-2.9.0-py3.9.egg/keras/engine/training.py?line=1410'>1411</a>\u001b[0m     context\u001b[39m.\u001b[39masync_wait()\n",
      "File \u001b[1;32mc:\\Users\\karth\\anaconda3\\envs\\chandra\\lib\\site-packages\\tensorflow-2.9.1-py3.9-win-amd64.egg\\tensorflow\\python\\util\\traceback_utils.py:150\u001b[0m, in \u001b[0;36mfilter_traceback.<locals>.error_handler\u001b[1;34m(*args, **kwargs)\u001b[0m\n\u001b[0;32m    <a href='file:///c%3A/Users/karth/anaconda3/envs/chandra/lib/site-packages/tensorflow-2.9.1-py3.9-win-amd64.egg/tensorflow/python/util/traceback_utils.py?line=147'>148</a>\u001b[0m filtered_tb \u001b[39m=\u001b[39m \u001b[39mNone\u001b[39;00m\n\u001b[0;32m    <a href='file:///c%3A/Users/karth/anaconda3/envs/chandra/lib/site-packages/tensorflow-2.9.1-py3.9-win-amd64.egg/tensorflow/python/util/traceback_utils.py?line=148'>149</a>\u001b[0m \u001b[39mtry\u001b[39;00m:\n\u001b[1;32m--> <a href='file:///c%3A/Users/karth/anaconda3/envs/chandra/lib/site-packages/tensorflow-2.9.1-py3.9-win-amd64.egg/tensorflow/python/util/traceback_utils.py?line=149'>150</a>\u001b[0m   \u001b[39mreturn\u001b[39;00m fn(\u001b[39m*\u001b[39margs, \u001b[39m*\u001b[39m\u001b[39m*\u001b[39mkwargs)\n\u001b[0;32m    <a href='file:///c%3A/Users/karth/anaconda3/envs/chandra/lib/site-packages/tensorflow-2.9.1-py3.9-win-amd64.egg/tensorflow/python/util/traceback_utils.py?line=150'>151</a>\u001b[0m \u001b[39mexcept\u001b[39;00m \u001b[39mException\u001b[39;00m \u001b[39mas\u001b[39;00m e:\n\u001b[0;32m    <a href='file:///c%3A/Users/karth/anaconda3/envs/chandra/lib/site-packages/tensorflow-2.9.1-py3.9-win-amd64.egg/tensorflow/python/util/traceback_utils.py?line=151'>152</a>\u001b[0m   filtered_tb \u001b[39m=\u001b[39m _process_traceback_frames(e\u001b[39m.\u001b[39m__traceback__)\n",
      "File \u001b[1;32mc:\\Users\\karth\\anaconda3\\envs\\chandra\\lib\\site-packages\\tensorflow-2.9.1-py3.9-win-amd64.egg\\tensorflow\\python\\eager\\def_function.py:915\u001b[0m, in \u001b[0;36mFunction.__call__\u001b[1;34m(self, *args, **kwds)\u001b[0m\n\u001b[0;32m    <a href='file:///c%3A/Users/karth/anaconda3/envs/chandra/lib/site-packages/tensorflow-2.9.1-py3.9-win-amd64.egg/tensorflow/python/eager/def_function.py?line=911'>912</a>\u001b[0m compiler \u001b[39m=\u001b[39m \u001b[39m\"\u001b[39m\u001b[39mxla\u001b[39m\u001b[39m\"\u001b[39m \u001b[39mif\u001b[39;00m \u001b[39mself\u001b[39m\u001b[39m.\u001b[39m_jit_compile \u001b[39melse\u001b[39;00m \u001b[39m\"\u001b[39m\u001b[39mnonXla\u001b[39m\u001b[39m\"\u001b[39m\n\u001b[0;32m    <a href='file:///c%3A/Users/karth/anaconda3/envs/chandra/lib/site-packages/tensorflow-2.9.1-py3.9-win-amd64.egg/tensorflow/python/eager/def_function.py?line=913'>914</a>\u001b[0m \u001b[39mwith\u001b[39;00m OptionalXlaContext(\u001b[39mself\u001b[39m\u001b[39m.\u001b[39m_jit_compile):\n\u001b[1;32m--> <a href='file:///c%3A/Users/karth/anaconda3/envs/chandra/lib/site-packages/tensorflow-2.9.1-py3.9-win-amd64.egg/tensorflow/python/eager/def_function.py?line=914'>915</a>\u001b[0m   result \u001b[39m=\u001b[39m \u001b[39mself\u001b[39m\u001b[39m.\u001b[39m_call(\u001b[39m*\u001b[39margs, \u001b[39m*\u001b[39m\u001b[39m*\u001b[39mkwds)\n\u001b[0;32m    <a href='file:///c%3A/Users/karth/anaconda3/envs/chandra/lib/site-packages/tensorflow-2.9.1-py3.9-win-amd64.egg/tensorflow/python/eager/def_function.py?line=916'>917</a>\u001b[0m new_tracing_count \u001b[39m=\u001b[39m \u001b[39mself\u001b[39m\u001b[39m.\u001b[39mexperimental_get_tracing_count()\n\u001b[0;32m    <a href='file:///c%3A/Users/karth/anaconda3/envs/chandra/lib/site-packages/tensorflow-2.9.1-py3.9-win-amd64.egg/tensorflow/python/eager/def_function.py?line=917'>918</a>\u001b[0m without_tracing \u001b[39m=\u001b[39m (tracing_count \u001b[39m==\u001b[39m new_tracing_count)\n",
      "File \u001b[1;32mc:\\Users\\karth\\anaconda3\\envs\\chandra\\lib\\site-packages\\tensorflow-2.9.1-py3.9-win-amd64.egg\\tensorflow\\python\\eager\\def_function.py:947\u001b[0m, in \u001b[0;36mFunction._call\u001b[1;34m(self, *args, **kwds)\u001b[0m\n\u001b[0;32m    <a href='file:///c%3A/Users/karth/anaconda3/envs/chandra/lib/site-packages/tensorflow-2.9.1-py3.9-win-amd64.egg/tensorflow/python/eager/def_function.py?line=943'>944</a>\u001b[0m   \u001b[39mself\u001b[39m\u001b[39m.\u001b[39m_lock\u001b[39m.\u001b[39mrelease()\n\u001b[0;32m    <a href='file:///c%3A/Users/karth/anaconda3/envs/chandra/lib/site-packages/tensorflow-2.9.1-py3.9-win-amd64.egg/tensorflow/python/eager/def_function.py?line=944'>945</a>\u001b[0m   \u001b[39m# In this case we have created variables on the first call, so we run the\u001b[39;00m\n\u001b[0;32m    <a href='file:///c%3A/Users/karth/anaconda3/envs/chandra/lib/site-packages/tensorflow-2.9.1-py3.9-win-amd64.egg/tensorflow/python/eager/def_function.py?line=945'>946</a>\u001b[0m   \u001b[39m# defunned version which is guaranteed to never create variables.\u001b[39;00m\n\u001b[1;32m--> <a href='file:///c%3A/Users/karth/anaconda3/envs/chandra/lib/site-packages/tensorflow-2.9.1-py3.9-win-amd64.egg/tensorflow/python/eager/def_function.py?line=946'>947</a>\u001b[0m   \u001b[39mreturn\u001b[39;00m \u001b[39mself\u001b[39m\u001b[39m.\u001b[39m_stateless_fn(\u001b[39m*\u001b[39margs, \u001b[39m*\u001b[39m\u001b[39m*\u001b[39mkwds)  \u001b[39m# pylint: disable=not-callable\u001b[39;00m\n\u001b[0;32m    <a href='file:///c%3A/Users/karth/anaconda3/envs/chandra/lib/site-packages/tensorflow-2.9.1-py3.9-win-amd64.egg/tensorflow/python/eager/def_function.py?line=947'>948</a>\u001b[0m \u001b[39melif\u001b[39;00m \u001b[39mself\u001b[39m\u001b[39m.\u001b[39m_stateful_fn \u001b[39mis\u001b[39;00m \u001b[39mnot\u001b[39;00m \u001b[39mNone\u001b[39;00m:\n\u001b[0;32m    <a href='file:///c%3A/Users/karth/anaconda3/envs/chandra/lib/site-packages/tensorflow-2.9.1-py3.9-win-amd64.egg/tensorflow/python/eager/def_function.py?line=948'>949</a>\u001b[0m   \u001b[39m# Release the lock early so that multiple threads can perform the call\u001b[39;00m\n\u001b[0;32m    <a href='file:///c%3A/Users/karth/anaconda3/envs/chandra/lib/site-packages/tensorflow-2.9.1-py3.9-win-amd64.egg/tensorflow/python/eager/def_function.py?line=949'>950</a>\u001b[0m   \u001b[39m# in parallel.\u001b[39;00m\n\u001b[0;32m    <a href='file:///c%3A/Users/karth/anaconda3/envs/chandra/lib/site-packages/tensorflow-2.9.1-py3.9-win-amd64.egg/tensorflow/python/eager/def_function.py?line=950'>951</a>\u001b[0m   \u001b[39mself\u001b[39m\u001b[39m.\u001b[39m_lock\u001b[39m.\u001b[39mrelease()\n",
      "File \u001b[1;32mc:\\Users\\karth\\anaconda3\\envs\\chandra\\lib\\site-packages\\tensorflow-2.9.1-py3.9-win-amd64.egg\\tensorflow\\python\\eager\\function.py:2453\u001b[0m, in \u001b[0;36mFunction.__call__\u001b[1;34m(self, *args, **kwargs)\u001b[0m\n\u001b[0;32m   <a href='file:///c%3A/Users/karth/anaconda3/envs/chandra/lib/site-packages/tensorflow-2.9.1-py3.9-win-amd64.egg/tensorflow/python/eager/function.py?line=2449'>2450</a>\u001b[0m \u001b[39mwith\u001b[39;00m \u001b[39mself\u001b[39m\u001b[39m.\u001b[39m_lock:\n\u001b[0;32m   <a href='file:///c%3A/Users/karth/anaconda3/envs/chandra/lib/site-packages/tensorflow-2.9.1-py3.9-win-amd64.egg/tensorflow/python/eager/function.py?line=2450'>2451</a>\u001b[0m   (graph_function,\n\u001b[0;32m   <a href='file:///c%3A/Users/karth/anaconda3/envs/chandra/lib/site-packages/tensorflow-2.9.1-py3.9-win-amd64.egg/tensorflow/python/eager/function.py?line=2451'>2452</a>\u001b[0m    filtered_flat_args) \u001b[39m=\u001b[39m \u001b[39mself\u001b[39m\u001b[39m.\u001b[39m_maybe_define_function(args, kwargs)\n\u001b[1;32m-> <a href='file:///c%3A/Users/karth/anaconda3/envs/chandra/lib/site-packages/tensorflow-2.9.1-py3.9-win-amd64.egg/tensorflow/python/eager/function.py?line=2452'>2453</a>\u001b[0m \u001b[39mreturn\u001b[39;00m graph_function\u001b[39m.\u001b[39;49m_call_flat(\n\u001b[0;32m   <a href='file:///c%3A/Users/karth/anaconda3/envs/chandra/lib/site-packages/tensorflow-2.9.1-py3.9-win-amd64.egg/tensorflow/python/eager/function.py?line=2453'>2454</a>\u001b[0m     filtered_flat_args, captured_inputs\u001b[39m=\u001b[39;49mgraph_function\u001b[39m.\u001b[39;49mcaptured_inputs)\n",
      "File \u001b[1;32mc:\\Users\\karth\\anaconda3\\envs\\chandra\\lib\\site-packages\\tensorflow-2.9.1-py3.9-win-amd64.egg\\tensorflow\\python\\eager\\function.py:1860\u001b[0m, in \u001b[0;36mConcreteFunction._call_flat\u001b[1;34m(self, args, captured_inputs, cancellation_manager)\u001b[0m\n\u001b[0;32m   <a href='file:///c%3A/Users/karth/anaconda3/envs/chandra/lib/site-packages/tensorflow-2.9.1-py3.9-win-amd64.egg/tensorflow/python/eager/function.py?line=1855'>1856</a>\u001b[0m possible_gradient_type \u001b[39m=\u001b[39m gradients_util\u001b[39m.\u001b[39mPossibleTapeGradientTypes(args)\n\u001b[0;32m   <a href='file:///c%3A/Users/karth/anaconda3/envs/chandra/lib/site-packages/tensorflow-2.9.1-py3.9-win-amd64.egg/tensorflow/python/eager/function.py?line=1856'>1857</a>\u001b[0m \u001b[39mif\u001b[39;00m (possible_gradient_type \u001b[39m==\u001b[39m gradients_util\u001b[39m.\u001b[39mPOSSIBLE_GRADIENT_TYPES_NONE\n\u001b[0;32m   <a href='file:///c%3A/Users/karth/anaconda3/envs/chandra/lib/site-packages/tensorflow-2.9.1-py3.9-win-amd64.egg/tensorflow/python/eager/function.py?line=1857'>1858</a>\u001b[0m     \u001b[39mand\u001b[39;00m executing_eagerly):\n\u001b[0;32m   <a href='file:///c%3A/Users/karth/anaconda3/envs/chandra/lib/site-packages/tensorflow-2.9.1-py3.9-win-amd64.egg/tensorflow/python/eager/function.py?line=1858'>1859</a>\u001b[0m   \u001b[39m# No tape is watching; skip to running the function.\u001b[39;00m\n\u001b[1;32m-> <a href='file:///c%3A/Users/karth/anaconda3/envs/chandra/lib/site-packages/tensorflow-2.9.1-py3.9-win-amd64.egg/tensorflow/python/eager/function.py?line=1859'>1860</a>\u001b[0m   \u001b[39mreturn\u001b[39;00m \u001b[39mself\u001b[39m\u001b[39m.\u001b[39m_build_call_outputs(\u001b[39mself\u001b[39;49m\u001b[39m.\u001b[39;49m_inference_function\u001b[39m.\u001b[39;49mcall(\n\u001b[0;32m   <a href='file:///c%3A/Users/karth/anaconda3/envs/chandra/lib/site-packages/tensorflow-2.9.1-py3.9-win-amd64.egg/tensorflow/python/eager/function.py?line=1860'>1861</a>\u001b[0m       ctx, args, cancellation_manager\u001b[39m=\u001b[39;49mcancellation_manager))\n\u001b[0;32m   <a href='file:///c%3A/Users/karth/anaconda3/envs/chandra/lib/site-packages/tensorflow-2.9.1-py3.9-win-amd64.egg/tensorflow/python/eager/function.py?line=1861'>1862</a>\u001b[0m forward_backward \u001b[39m=\u001b[39m \u001b[39mself\u001b[39m\u001b[39m.\u001b[39m_select_forward_and_backward_functions(\n\u001b[0;32m   <a href='file:///c%3A/Users/karth/anaconda3/envs/chandra/lib/site-packages/tensorflow-2.9.1-py3.9-win-amd64.egg/tensorflow/python/eager/function.py?line=1862'>1863</a>\u001b[0m     args,\n\u001b[0;32m   <a href='file:///c%3A/Users/karth/anaconda3/envs/chandra/lib/site-packages/tensorflow-2.9.1-py3.9-win-amd64.egg/tensorflow/python/eager/function.py?line=1863'>1864</a>\u001b[0m     possible_gradient_type,\n\u001b[0;32m   <a href='file:///c%3A/Users/karth/anaconda3/envs/chandra/lib/site-packages/tensorflow-2.9.1-py3.9-win-amd64.egg/tensorflow/python/eager/function.py?line=1864'>1865</a>\u001b[0m     executing_eagerly)\n\u001b[0;32m   <a href='file:///c%3A/Users/karth/anaconda3/envs/chandra/lib/site-packages/tensorflow-2.9.1-py3.9-win-amd64.egg/tensorflow/python/eager/function.py?line=1865'>1866</a>\u001b[0m forward_function, args_with_tangents \u001b[39m=\u001b[39m forward_backward\u001b[39m.\u001b[39mforward()\n",
      "File \u001b[1;32mc:\\Users\\karth\\anaconda3\\envs\\chandra\\lib\\site-packages\\tensorflow-2.9.1-py3.9-win-amd64.egg\\tensorflow\\python\\eager\\function.py:497\u001b[0m, in \u001b[0;36m_EagerDefinedFunction.call\u001b[1;34m(self, ctx, args, cancellation_manager)\u001b[0m\n\u001b[0;32m    <a href='file:///c%3A/Users/karth/anaconda3/envs/chandra/lib/site-packages/tensorflow-2.9.1-py3.9-win-amd64.egg/tensorflow/python/eager/function.py?line=494'>495</a>\u001b[0m \u001b[39mwith\u001b[39;00m _InterpolateFunctionError(\u001b[39mself\u001b[39m):\n\u001b[0;32m    <a href='file:///c%3A/Users/karth/anaconda3/envs/chandra/lib/site-packages/tensorflow-2.9.1-py3.9-win-amd64.egg/tensorflow/python/eager/function.py?line=495'>496</a>\u001b[0m   \u001b[39mif\u001b[39;00m cancellation_manager \u001b[39mis\u001b[39;00m \u001b[39mNone\u001b[39;00m:\n\u001b[1;32m--> <a href='file:///c%3A/Users/karth/anaconda3/envs/chandra/lib/site-packages/tensorflow-2.9.1-py3.9-win-amd64.egg/tensorflow/python/eager/function.py?line=496'>497</a>\u001b[0m     outputs \u001b[39m=\u001b[39m execute\u001b[39m.\u001b[39;49mexecute(\n\u001b[0;32m    <a href='file:///c%3A/Users/karth/anaconda3/envs/chandra/lib/site-packages/tensorflow-2.9.1-py3.9-win-amd64.egg/tensorflow/python/eager/function.py?line=497'>498</a>\u001b[0m         \u001b[39mstr\u001b[39;49m(\u001b[39mself\u001b[39;49m\u001b[39m.\u001b[39;49msignature\u001b[39m.\u001b[39;49mname),\n\u001b[0;32m    <a href='file:///c%3A/Users/karth/anaconda3/envs/chandra/lib/site-packages/tensorflow-2.9.1-py3.9-win-amd64.egg/tensorflow/python/eager/function.py?line=498'>499</a>\u001b[0m         num_outputs\u001b[39m=\u001b[39;49m\u001b[39mself\u001b[39;49m\u001b[39m.\u001b[39;49m_num_outputs,\n\u001b[0;32m    <a href='file:///c%3A/Users/karth/anaconda3/envs/chandra/lib/site-packages/tensorflow-2.9.1-py3.9-win-amd64.egg/tensorflow/python/eager/function.py?line=499'>500</a>\u001b[0m         inputs\u001b[39m=\u001b[39;49margs,\n\u001b[0;32m    <a href='file:///c%3A/Users/karth/anaconda3/envs/chandra/lib/site-packages/tensorflow-2.9.1-py3.9-win-amd64.egg/tensorflow/python/eager/function.py?line=500'>501</a>\u001b[0m         attrs\u001b[39m=\u001b[39;49mattrs,\n\u001b[0;32m    <a href='file:///c%3A/Users/karth/anaconda3/envs/chandra/lib/site-packages/tensorflow-2.9.1-py3.9-win-amd64.egg/tensorflow/python/eager/function.py?line=501'>502</a>\u001b[0m         ctx\u001b[39m=\u001b[39;49mctx)\n\u001b[0;32m    <a href='file:///c%3A/Users/karth/anaconda3/envs/chandra/lib/site-packages/tensorflow-2.9.1-py3.9-win-amd64.egg/tensorflow/python/eager/function.py?line=502'>503</a>\u001b[0m   \u001b[39melse\u001b[39;00m:\n\u001b[0;32m    <a href='file:///c%3A/Users/karth/anaconda3/envs/chandra/lib/site-packages/tensorflow-2.9.1-py3.9-win-amd64.egg/tensorflow/python/eager/function.py?line=503'>504</a>\u001b[0m     outputs \u001b[39m=\u001b[39m execute\u001b[39m.\u001b[39mexecute_with_cancellation(\n\u001b[0;32m    <a href='file:///c%3A/Users/karth/anaconda3/envs/chandra/lib/site-packages/tensorflow-2.9.1-py3.9-win-amd64.egg/tensorflow/python/eager/function.py?line=504'>505</a>\u001b[0m         \u001b[39mstr\u001b[39m(\u001b[39mself\u001b[39m\u001b[39m.\u001b[39msignature\u001b[39m.\u001b[39mname),\n\u001b[0;32m    <a href='file:///c%3A/Users/karth/anaconda3/envs/chandra/lib/site-packages/tensorflow-2.9.1-py3.9-win-amd64.egg/tensorflow/python/eager/function.py?line=505'>506</a>\u001b[0m         num_outputs\u001b[39m=\u001b[39m\u001b[39mself\u001b[39m\u001b[39m.\u001b[39m_num_outputs,\n\u001b[1;32m   (...)\u001b[0m\n\u001b[0;32m    <a href='file:///c%3A/Users/karth/anaconda3/envs/chandra/lib/site-packages/tensorflow-2.9.1-py3.9-win-amd64.egg/tensorflow/python/eager/function.py?line=508'>509</a>\u001b[0m         ctx\u001b[39m=\u001b[39mctx,\n\u001b[0;32m    <a href='file:///c%3A/Users/karth/anaconda3/envs/chandra/lib/site-packages/tensorflow-2.9.1-py3.9-win-amd64.egg/tensorflow/python/eager/function.py?line=509'>510</a>\u001b[0m         cancellation_manager\u001b[39m=\u001b[39mcancellation_manager)\n",
      "File \u001b[1;32mc:\\Users\\karth\\anaconda3\\envs\\chandra\\lib\\site-packages\\tensorflow-2.9.1-py3.9-win-amd64.egg\\tensorflow\\python\\eager\\execute.py:54\u001b[0m, in \u001b[0;36mquick_execute\u001b[1;34m(op_name, num_outputs, inputs, attrs, ctx, name)\u001b[0m\n\u001b[0;32m     <a href='file:///c%3A/Users/karth/anaconda3/envs/chandra/lib/site-packages/tensorflow-2.9.1-py3.9-win-amd64.egg/tensorflow/python/eager/execute.py?line=51'>52</a>\u001b[0m \u001b[39mtry\u001b[39;00m:\n\u001b[0;32m     <a href='file:///c%3A/Users/karth/anaconda3/envs/chandra/lib/site-packages/tensorflow-2.9.1-py3.9-win-amd64.egg/tensorflow/python/eager/execute.py?line=52'>53</a>\u001b[0m   ctx\u001b[39m.\u001b[39mensure_initialized()\n\u001b[1;32m---> <a href='file:///c%3A/Users/karth/anaconda3/envs/chandra/lib/site-packages/tensorflow-2.9.1-py3.9-win-amd64.egg/tensorflow/python/eager/execute.py?line=53'>54</a>\u001b[0m   tensors \u001b[39m=\u001b[39m pywrap_tfe\u001b[39m.\u001b[39;49mTFE_Py_Execute(ctx\u001b[39m.\u001b[39;49m_handle, device_name, op_name,\n\u001b[0;32m     <a href='file:///c%3A/Users/karth/anaconda3/envs/chandra/lib/site-packages/tensorflow-2.9.1-py3.9-win-amd64.egg/tensorflow/python/eager/execute.py?line=54'>55</a>\u001b[0m                                       inputs, attrs, num_outputs)\n\u001b[0;32m     <a href='file:///c%3A/Users/karth/anaconda3/envs/chandra/lib/site-packages/tensorflow-2.9.1-py3.9-win-amd64.egg/tensorflow/python/eager/execute.py?line=55'>56</a>\u001b[0m \u001b[39mexcept\u001b[39;00m core\u001b[39m.\u001b[39m_NotOkStatusException \u001b[39mas\u001b[39;00m e:\n\u001b[0;32m     <a href='file:///c%3A/Users/karth/anaconda3/envs/chandra/lib/site-packages/tensorflow-2.9.1-py3.9-win-amd64.egg/tensorflow/python/eager/execute.py?line=56'>57</a>\u001b[0m   \u001b[39mif\u001b[39;00m name \u001b[39mis\u001b[39;00m \u001b[39mnot\u001b[39;00m \u001b[39mNone\u001b[39;00m:\n",
      "\u001b[1;31mKeyboardInterrupt\u001b[0m: "
     ]
    }
   ],
   "source": [
    "history_ft, model_ft = train_TL_finetune(batch_size=128)"
   ]
  },
  {
   "cell_type": "code",
   "execution_count": null,
   "metadata": {},
   "outputs": [],
   "source": [
    "fig = plt.figure(figsize=(24, 8))\n",
    "sp1 = fig.add_subplot(131)\n",
    "sp2 = fig.add_subplot(132)\n",
    "\n",
    "num_epochs = range(0, 15)\n",
    "\n",
    "sp1.plot(num_epochs, history_ft.history['loss'], linewidth=2, label='Train')\n",
    "sp1.plot(num_epochs, history_ft.history['val_loss'], linewidth=2, label='Val')\n",
    "\n",
    "sp2.plot(num_epochs, history_ft.history['binary_accuracy'], linewidth=2, label='Train')\n",
    "sp2.plot(num_epochs, history_ft.history['val_binary_accuracy'], linewidth=2, label='Val')\n",
    "\n",
    "sp1.set_xlabel('Epoch')\n",
    "sp1.set_ylabel('Loss')\n",
    "sp1.legend()\n",
    "\n",
    "sp2.set_xlabel('Epoch')\n",
    "sp2.set_ylabel('binary_accuracy')\n",
    "sp2.legend()\n"
   ]
  }
 ],
 "metadata": {
  "interpreter": {
   "hash": "1cfd1f37832ca50460afb8cee0e387f253b30e3ddabfcf63ef10b19ca2ef7e6c"
  },
  "kernelspec": {
   "display_name": "Python 3.9.12 ('chandra')",
   "language": "python",
   "name": "python3"
  },
  "language_info": {
   "codemirror_mode": {
    "name": "ipython",
    "version": 3
   },
   "file_extension": ".py",
   "mimetype": "text/x-python",
   "name": "python",
   "nbconvert_exporter": "python",
   "pygments_lexer": "ipython3",
   "version": "3.9.12"
  },
  "orig_nbformat": 4
 },
 "nbformat": 4,
 "nbformat_minor": 2
}
