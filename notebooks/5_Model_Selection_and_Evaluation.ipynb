{
 "cells": [
  {
   "cell_type": "code",
   "execution_count": 2,
   "id": "c47a7b19",
   "metadata": {},
   "outputs": [],
   "source": [
    "from pathlib import Path\n",
    "from matplotlib import pyplot as plt\n",
    "import seaborn as sbn\n",
    "import pandas as pd\n",
    "import numpy as np\n",
    "from chandra.models.cnn import create_dataset\n",
    "from chandra.metrics import F1_Score\n",
    "from sklearn.model_selection import train_test_split\n",
    "from sklearn.neighbors import KNeighborsClassifier\n",
    "from sklearn.metrics import f1_score, confusion_matrix\n",
    "from skimage.io import imread\n",
    "from tensorflow.keras.models import load_model"
   ]
  },
  {
   "cell_type": "markdown",
   "id": "85f4267b",
   "metadata": {},
   "source": [
    "# Model Selection\n",
    "\n",
    "## Reading the Models In\n",
    "\n",
    "We need to read in all of our best-fit models and compare their performance on the validation set.  In the case of the k-nearest neighbors model, it is simple enough (and non-trivial to store), so we simply quickly retrain it here with the correct parameters"
   ]
  },
  {
   "cell_type": "markdown",
   "id": "7d3fe0e0",
   "metadata": {},
   "source": [
    "### k-Nearest Neighbors"
   ]
  },
  {
   "cell_type": "code",
   "execution_count": 3,
   "id": "3f2f57bc",
   "metadata": {},
   "outputs": [],
   "source": [
    "train_info_file_path = Path('data').joinpath('preprocessed',\n",
    "                                             'train_metadata.csv')\n",
    "test_info_file_path = Path('data').joinpath('preprocessed',\n",
    "                                             'test_metadata.csv')\n",
    "\n",
    "full_train = pd.read_csv(train_info_file_path)\n",
    "test_data = pd.read_csv(test_info_file_path)\n",
    "train_data, val_data = train_test_split(full_train, test_size=0.2,\n",
    "                                        shuffle=True,\n",
    "                                        stratify=full_train.is_pneumonia,\n",
    "                                        random_state=9473)"
   ]
  },
  {
   "cell_type": "code",
   "execution_count": 4,
   "id": "0b5cdaef",
   "metadata": {},
   "outputs": [],
   "source": [
    "# Reading in k-NN data\n",
    "X_train = [imread(path,as_gray=True) for path in train_data.resized_file_path]\n",
    "y_train = np.array([pnu for pnu in train_data.is_pneumonia])\n",
    "X_val = [imread(path,as_gray=True) for path in val_data.resized_file_path]\n",
    "y_val = np.array([pnu for pnu in val_data.is_pneumonia])\n",
    "X_test = [imread(path,as_gray=True) for path in test_data.resized_file_path]\n",
    "y_test = np.array([pnu for pnu in test_data.is_pneumonia])\n",
    "\n",
    "X_train = np.reshape(X_train, (np.shape(X_train)[0], -1))\n",
    "X_test = np.reshape(X_test, (np.shape(X_test)[0], -1))\n",
    "X_val = np.reshape(X_val, (np.shape(X_val)[0], -1))\n",
    "\n",
    "knn_model = KNeighborsClassifier(n_neighbors=18)\n",
    "knn_model.fit(X_train, y_train);"
   ]
  },
  {
   "cell_type": "markdown",
   "id": "0217cf87",
   "metadata": {},
   "source": [
    "### Convolutional Neural Networks"
   ]
  },
  {
   "cell_type": "code",
   "execution_count": 5,
   "id": "a557cf91",
   "metadata": {},
   "outputs": [
    {
     "name": "stdout",
     "output_type": "stream",
     "text": [
      "WARNING:tensorflow:SavedModel saved prior to TF 2.5 detected when loading Keras model. Please ensure that you are saving the model with model.save() or tf.keras.models.save_model(), *NOT* tf.saved_model.save(). To confirm, there should be a file named \"keras_metadata.pb\" in the SavedModel directory.\n"
     ]
    }
   ],
   "source": [
    "# Read in CNNs\n",
    "\n",
    "train_dataset = create_dataset(train_data.resized_file_path,\n",
    "                               train_data.is_pneumonia,\n",
    "                               batch_size=128)\n",
    "val_dataset = create_dataset(val_data.resized_file_path,\n",
    "                             val_data.is_pneumonia,\n",
    "                             batch_size=128)\n",
    "\n",
    "cnn_model = load_model('CNN_v1', custom_objects={'F1_Score':F1_Score})\n",
    "tl_model = load_model('TL_v2', custom_objects={'F1_Score':F1_Score})"
   ]
  },
  {
   "cell_type": "markdown",
   "id": "89af9097",
   "metadata": {},
   "source": [
    "## Making Predictions and Evaluating Performance"
   ]
  },
  {
   "cell_type": "code",
   "execution_count": 6,
   "id": "47b973d1",
   "metadata": {},
   "outputs": [],
   "source": [
    "knn_pred = knn_model.predict(X_val)\n",
    "knn_conf_mat = confusion_matrix(y_val, knn_pred)\n",
    "knn_f1 = f1_score(y_val, knn_pred)"
   ]
  },
  {
   "cell_type": "code",
   "execution_count": 7,
   "id": "4bf4b893",
   "metadata": {},
   "outputs": [
    {
     "name": "stdout",
     "output_type": "stream",
     "text": [
      "8/8 [==============================] - 16s 2s/step\n"
     ]
    }
   ],
   "source": [
    "cnn_pred = cnn_model.predict(val_dataset).squeeze()>=0.5\n",
    "cnn_conf_mat = confusion_matrix(y_val, cnn_pred)\n",
    "cnn_f1 = f1_score(y_val, cnn_pred)"
   ]
  },
  {
   "cell_type": "code",
   "execution_count": 8,
   "id": "743f1732",
   "metadata": {
    "scrolled": true
   },
   "outputs": [
    {
     "name": "stdout",
     "output_type": "stream",
     "text": [
      "8/8 [==============================] - 121s 15s/step\n"
     ]
    }
   ],
   "source": [
    "tl_pred = tl_model.predict(val_dataset).squeeze()>0.5\n",
    "tl_conf_mat = confusion_matrix(y_val, tl_pred)\n",
    "tl_f1 = f1_score(y_val, tl_pred)"
   ]
  },
  {
   "cell_type": "code",
   "execution_count": 12,
   "id": "7a8743b4",
   "metadata": {},
   "outputs": [
    {
     "data": {
      "text/plain": [
       "Text(0.5, 64.78588235294116, 'True')"
      ]
     },
     "execution_count": 12,
     "metadata": {},
     "output_type": "execute_result"
    },
    {
     "data": {
      "image/png": "[encoded data removed]",
      "text/plain": [
       "<Figure size 1440x432 with 6 Axes>"
      ]
     },
     "metadata": {
      "needs_background": "light"
     },
     "output_type": "display_data"
    }
   ],
   "source": [
    "fig = plt.figure(figsize=(20, 6))\n",
    "knn_sp = fig.add_subplot(131)\n",
    "cnn_sp = fig.add_subplot(132)\n",
    "tl_sp = fig.add_subplot(133)\n",
    "\n",
    "sbn.heatmap(knn_conf_mat, ax=knn_sp, annot=True, \n",
    "            square=True, fmt='d', \n",
    "            annot_kws=dict(fontsize=20))\n",
    "sbn.heatmap(cnn_conf_mat, ax=cnn_sp, annot=True,\n",
    "            square=True, fmt='d',\n",
    "            annot_kws=dict(fontsize=20))\n",
    "sbn.heatmap(tl_conf_mat, ax=tl_sp, annot=True,\n",
    "            square=True, fmt='d',\n",
    "            annot_kws=dict(fontsize=20))\n",
    "\n",
    "knn_sp.set_title(f'k-NN F1={knn_f1:.3f}', fontsize= 20)\n",
    "knn_sp.set_ylabel('Predicted', fontsize= 20)\n",
    "\n",
    "cnn_sp.set_title(f'CNN F1={cnn_f1:.3f}', fontsize= 20)\n",
    "cnn_sp.set_xlabel('True', fontsize= 20)\n",
    "\n",
    "tl_sp.set_title(f'TL F1={tl_f1:.3f}', fontsize= 20)\n",
    "tl_sp.set_xlabel('True', fontsize= 20)"
   ]
  },
  {
   "cell_type": "markdown",
   "id": "7b208133",
   "metadata": {},
   "source": [
    "Here, we see that the CNN model does a much better job than the other two models at not mistaking normal x-rays for ones that should have been classified as having pneumonia.  This gain comes with only a slight decrease in the ability to correctly identify normal images, resulting in the highest F1 Score.  The TL model seems to classify nearly all of the objects as pneumonia, resulting in a poor fit."
   ]
  },
  {
   "cell_type": "markdown",
   "id": "633b589c",
   "metadata": {},
   "source": [
    "# How well does our CNN do on the Test set?"
   ]
  },
  {
   "cell_type": "code",
   "execution_count": 10,
   "id": "3622e500",
   "metadata": {},
   "outputs": [
    {
     "name": "stdout",
     "output_type": "stream",
     "text": [
      "10/10 [==============================] - 9s 922ms/step\n"
     ]
    }
   ],
   "source": [
    "test_dataset = create_dataset(test_data.resized_file_path,\n",
    "                              test_data.is_pneumonia,\n",
    "                              batch_size=128)\n",
    "\n",
    "cnn_test_pred = cnn_model.predict(test_dataset).squeeze()>=0.5\n",
    "cnn_test_conf_mat = confusion_matrix(y_test, cnn_test_pred)\n",
    "cnn_test_f1 = f1_score(y_test, cnn_test_pred)"
   ]
  },
  {
   "cell_type": "code",
   "execution_count": 11,
   "id": "ae4c82d8",
   "metadata": {
    "scrolled": false
   },
   "outputs": [
    {
     "data": {
      "text/plain": [
       "Text(0.5, 1.0, 'Test F1=0.966')"
      ]
     },
     "execution_count": 11,
     "metadata": {},
     "output_type": "execute_result"
    },
    {
     "data": {
      "image/png": "[encoded data removed]",
      "text/plain": [
       "<Figure size 720x576 with 2 Axes>"
      ]
     },
     "metadata": {
      "needs_background": "light"
     },
     "output_type": "display_data"
    }
   ],
   "source": [
    "fig = plt.figure(figsize = (10, 8))\n",
    "sp = fig.add_subplot(111)\n",
    "\n",
    "sbn.heatmap(cnn_test_conf_mat, ax=sp,\n",
    "            annot=True, square=True, fmt='d',\n",
    "            annot_kws=dict(fontsize=40))\n",
    "sp.set_xlabel('True')\n",
    "sp.set_ylabel('Predicted')\n",
    "sp.set_title(f'Test F1={cnn_test_f1:.3f}')"
   ]
  },
  {
   "cell_type": "markdown",
   "id": "b221d949",
   "metadata": {},
   "source": [
    "Our CNN model seems to do about as well on the test set as it did on the validation set!"
   ]
  },
  {
   "cell_type": "markdown",
   "id": "cab5f671",
   "metadata": {},
   "source": [
    "## Conclusions\n",
    "\n",
    "In conclusion, we find that a custom-trained convolutional neural network represents a substantive improvement over the other two models by decreasing the margin between the F1 score and its maximum possible value of 1. "
   ]
  }
 ],
 "metadata": {
  "interpreter": {
   "hash": "1cfd1f37832ca50460afb8cee0e387f253b30e3ddabfcf63ef10b19ca2ef7e6c"
  },
  "kernelspec": {
   "display_name": "Python 3 (ipykernel)",
   "language": "python",
   "name": "python3"
  },
  "language_info": {
   "codemirror_mode": {
    "name": "ipython",
    "version": 3
   },
   "file_extension": ".py",
   "mimetype": "text/x-python",
   "name": "python",
   "nbconvert_exporter": "python",
   "pygments_lexer": "ipython3",
   "version": "3.7.1"
  }
 },
 "nbformat": 4,
 "nbformat_minor": 5
}
